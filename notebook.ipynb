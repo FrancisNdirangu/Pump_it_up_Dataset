{
 "cells": [
  {
   "cell_type": "code",
   "execution_count": 70,
   "id": "4f3a42b2",
   "metadata": {},
   "outputs": [],
   "source": [
    "import pandas as pd\n",
    "import numpy as np\n",
    "import seaborn as sns\n",
    "import matplotlib.pyplot as plt\n",
    "%matplotlib inline\n",
    "from sklearn.metrics import accuracy_score,precision_score,precision_score,recall_score,precision_recall_curve,auc,classification_report\n",
    "from sklearn.linear_model import LogisticRegressionCV,LogisticRegression\n",
    "from sklearn.tree import DecisionTreeClassifier\n",
    "from sklearn.model_selection import train_test_split,GridSearchCV\n",
    "from sklearn.preprocessing import LabelEncoder,OrdinalEncoder,OneHotEncoder\n",
    "from collections import Counter\n",
    "from imblearn.over_sampling import SMOTENC"
   ]
  },
  {
   "cell_type": "code",
   "execution_count": 5,
   "id": "bcafe87c",
   "metadata": {},
   "outputs": [],
   "source": [
    "train_features = pd.read_csv('training_set_values.csv')\n",
    "train_labels = pd.read_csv('training_set_labels.csv')\n",
    "test_features = pd.read_csv('test_set_values.csv')\n",
    "df = pd.merge(train_features,train_labels,on='id')\n"
   ]
  },
  {
   "cell_type": "code",
   "execution_count": 6,
   "id": "b4c6a374",
   "metadata": {},
   "outputs": [
    {
     "data": {
      "text/html": [
       "<div>\n",
       "<style scoped>\n",
       "    .dataframe tbody tr th:only-of-type {\n",
       "        vertical-align: middle;\n",
       "    }\n",
       "\n",
       "    .dataframe tbody tr th {\n",
       "        vertical-align: top;\n",
       "    }\n",
       "\n",
       "    .dataframe thead th {\n",
       "        text-align: right;\n",
       "    }\n",
       "</style>\n",
       "<table border=\"1\" class=\"dataframe\">\n",
       "  <thead>\n",
       "    <tr style=\"text-align: right;\">\n",
       "      <th></th>\n",
       "      <th>id</th>\n",
       "      <th>amount_tsh</th>\n",
       "      <th>date_recorded</th>\n",
       "      <th>funder</th>\n",
       "      <th>gps_height</th>\n",
       "      <th>installer</th>\n",
       "      <th>longitude</th>\n",
       "      <th>latitude</th>\n",
       "      <th>wpt_name</th>\n",
       "      <th>num_private</th>\n",
       "      <th>...</th>\n",
       "      <th>water_quality</th>\n",
       "      <th>quality_group</th>\n",
       "      <th>quantity</th>\n",
       "      <th>quantity_group</th>\n",
       "      <th>source</th>\n",
       "      <th>source_type</th>\n",
       "      <th>source_class</th>\n",
       "      <th>waterpoint_type</th>\n",
       "      <th>waterpoint_type_group</th>\n",
       "      <th>status_group</th>\n",
       "    </tr>\n",
       "  </thead>\n",
       "  <tbody>\n",
       "    <tr>\n",
       "      <th>0</th>\n",
       "      <td>69572</td>\n",
       "      <td>6000.0</td>\n",
       "      <td>2011-03-14</td>\n",
       "      <td>Roman</td>\n",
       "      <td>1390</td>\n",
       "      <td>Roman</td>\n",
       "      <td>34.938093</td>\n",
       "      <td>-9.856322</td>\n",
       "      <td>none</td>\n",
       "      <td>0</td>\n",
       "      <td>...</td>\n",
       "      <td>soft</td>\n",
       "      <td>good</td>\n",
       "      <td>enough</td>\n",
       "      <td>enough</td>\n",
       "      <td>spring</td>\n",
       "      <td>spring</td>\n",
       "      <td>groundwater</td>\n",
       "      <td>communal standpipe</td>\n",
       "      <td>communal standpipe</td>\n",
       "      <td>functional</td>\n",
       "    </tr>\n",
       "    <tr>\n",
       "      <th>1</th>\n",
       "      <td>8776</td>\n",
       "      <td>0.0</td>\n",
       "      <td>2013-03-06</td>\n",
       "      <td>Grumeti</td>\n",
       "      <td>1399</td>\n",
       "      <td>GRUMETI</td>\n",
       "      <td>34.698766</td>\n",
       "      <td>-2.147466</td>\n",
       "      <td>Zahanati</td>\n",
       "      <td>0</td>\n",
       "      <td>...</td>\n",
       "      <td>soft</td>\n",
       "      <td>good</td>\n",
       "      <td>insufficient</td>\n",
       "      <td>insufficient</td>\n",
       "      <td>rainwater harvesting</td>\n",
       "      <td>rainwater harvesting</td>\n",
       "      <td>surface</td>\n",
       "      <td>communal standpipe</td>\n",
       "      <td>communal standpipe</td>\n",
       "      <td>functional</td>\n",
       "    </tr>\n",
       "    <tr>\n",
       "      <th>2</th>\n",
       "      <td>34310</td>\n",
       "      <td>25.0</td>\n",
       "      <td>2013-02-25</td>\n",
       "      <td>Lottery Club</td>\n",
       "      <td>686</td>\n",
       "      <td>World vision</td>\n",
       "      <td>37.460664</td>\n",
       "      <td>-3.821329</td>\n",
       "      <td>Kwa Mahundi</td>\n",
       "      <td>0</td>\n",
       "      <td>...</td>\n",
       "      <td>soft</td>\n",
       "      <td>good</td>\n",
       "      <td>enough</td>\n",
       "      <td>enough</td>\n",
       "      <td>dam</td>\n",
       "      <td>dam</td>\n",
       "      <td>surface</td>\n",
       "      <td>communal standpipe multiple</td>\n",
       "      <td>communal standpipe</td>\n",
       "      <td>functional</td>\n",
       "    </tr>\n",
       "    <tr>\n",
       "      <th>3</th>\n",
       "      <td>67743</td>\n",
       "      <td>0.0</td>\n",
       "      <td>2013-01-28</td>\n",
       "      <td>Unicef</td>\n",
       "      <td>263</td>\n",
       "      <td>UNICEF</td>\n",
       "      <td>38.486161</td>\n",
       "      <td>-11.155298</td>\n",
       "      <td>Zahanati Ya Nanyumbu</td>\n",
       "      <td>0</td>\n",
       "      <td>...</td>\n",
       "      <td>soft</td>\n",
       "      <td>good</td>\n",
       "      <td>dry</td>\n",
       "      <td>dry</td>\n",
       "      <td>machine dbh</td>\n",
       "      <td>borehole</td>\n",
       "      <td>groundwater</td>\n",
       "      <td>communal standpipe multiple</td>\n",
       "      <td>communal standpipe</td>\n",
       "      <td>non functional</td>\n",
       "    </tr>\n",
       "    <tr>\n",
       "      <th>4</th>\n",
       "      <td>19728</td>\n",
       "      <td>0.0</td>\n",
       "      <td>2011-07-13</td>\n",
       "      <td>Action In A</td>\n",
       "      <td>0</td>\n",
       "      <td>Artisan</td>\n",
       "      <td>31.130847</td>\n",
       "      <td>-1.825359</td>\n",
       "      <td>Shuleni</td>\n",
       "      <td>0</td>\n",
       "      <td>...</td>\n",
       "      <td>soft</td>\n",
       "      <td>good</td>\n",
       "      <td>seasonal</td>\n",
       "      <td>seasonal</td>\n",
       "      <td>rainwater harvesting</td>\n",
       "      <td>rainwater harvesting</td>\n",
       "      <td>surface</td>\n",
       "      <td>communal standpipe</td>\n",
       "      <td>communal standpipe</td>\n",
       "      <td>functional</td>\n",
       "    </tr>\n",
       "  </tbody>\n",
       "</table>\n",
       "<p>5 rows × 41 columns</p>\n",
       "</div>"
      ],
      "text/plain": [
       "      id  amount_tsh date_recorded        funder  gps_height     installer  \\\n",
       "0  69572      6000.0    2011-03-14         Roman        1390         Roman   \n",
       "1   8776         0.0    2013-03-06       Grumeti        1399       GRUMETI   \n",
       "2  34310        25.0    2013-02-25  Lottery Club         686  World vision   \n",
       "3  67743         0.0    2013-01-28        Unicef         263        UNICEF   \n",
       "4  19728         0.0    2011-07-13   Action In A           0       Artisan   \n",
       "\n",
       "   longitude   latitude              wpt_name  num_private  ... water_quality  \\\n",
       "0  34.938093  -9.856322                  none            0  ...          soft   \n",
       "1  34.698766  -2.147466              Zahanati            0  ...          soft   \n",
       "2  37.460664  -3.821329           Kwa Mahundi            0  ...          soft   \n",
       "3  38.486161 -11.155298  Zahanati Ya Nanyumbu            0  ...          soft   \n",
       "4  31.130847  -1.825359               Shuleni            0  ...          soft   \n",
       "\n",
       "  quality_group      quantity  quantity_group                source  \\\n",
       "0          good        enough          enough                spring   \n",
       "1          good  insufficient    insufficient  rainwater harvesting   \n",
       "2          good        enough          enough                   dam   \n",
       "3          good           dry             dry           machine dbh   \n",
       "4          good      seasonal        seasonal  rainwater harvesting   \n",
       "\n",
       "            source_type source_class              waterpoint_type  \\\n",
       "0                spring  groundwater           communal standpipe   \n",
       "1  rainwater harvesting      surface           communal standpipe   \n",
       "2                   dam      surface  communal standpipe multiple   \n",
       "3              borehole  groundwater  communal standpipe multiple   \n",
       "4  rainwater harvesting      surface           communal standpipe   \n",
       "\n",
       "  waterpoint_type_group    status_group  \n",
       "0    communal standpipe      functional  \n",
       "1    communal standpipe      functional  \n",
       "2    communal standpipe      functional  \n",
       "3    communal standpipe  non functional  \n",
       "4    communal standpipe      functional  \n",
       "\n",
       "[5 rows x 41 columns]"
      ]
     },
     "execution_count": 6,
     "metadata": {},
     "output_type": "execute_result"
    }
   ],
   "source": [
    "df.head()"
   ]
  },
  {
   "cell_type": "code",
   "execution_count": 7,
   "id": "4848adbf",
   "metadata": {},
   "outputs": [
    {
     "data": {
      "text/plain": [
       "Index(['id', 'amount_tsh', 'date_recorded', 'funder', 'gps_height',\n",
       "       'installer', 'longitude', 'latitude', 'wpt_name', 'num_private',\n",
       "       'basin', 'subvillage', 'region', 'region_code', 'district_code', 'lga',\n",
       "       'ward', 'population', 'public_meeting', 'recorded_by',\n",
       "       'scheme_management', 'scheme_name', 'permit', 'construction_year',\n",
       "       'extraction_type', 'extraction_type_group', 'extraction_type_class',\n",
       "       'management', 'management_group', 'payment', 'payment_type',\n",
       "       'water_quality', 'quality_group', 'quantity', 'quantity_group',\n",
       "       'source', 'source_type', 'source_class', 'waterpoint_type',\n",
       "       'waterpoint_type_group', 'status_group'],\n",
       "      dtype='object')"
      ]
     },
     "execution_count": 7,
     "metadata": {},
     "output_type": "execute_result"
    }
   ],
   "source": [
    "df.columns"
   ]
  },
  {
   "cell_type": "code",
   "execution_count": 8,
   "id": "b157d011",
   "metadata": {},
   "outputs": [
    {
     "name": "stdout",
     "output_type": "stream",
     "text": [
      "<class 'pandas.core.frame.DataFrame'>\n",
      "Int64Index: 59400 entries, 0 to 59399\n",
      "Data columns (total 41 columns):\n",
      " #   Column                 Non-Null Count  Dtype  \n",
      "---  ------                 --------------  -----  \n",
      " 0   id                     59400 non-null  int64  \n",
      " 1   amount_tsh             59400 non-null  float64\n",
      " 2   date_recorded          59400 non-null  object \n",
      " 3   funder                 55765 non-null  object \n",
      " 4   gps_height             59400 non-null  int64  \n",
      " 5   installer              55745 non-null  object \n",
      " 6   longitude              59400 non-null  float64\n",
      " 7   latitude               59400 non-null  float64\n",
      " 8   wpt_name               59400 non-null  object \n",
      " 9   num_private            59400 non-null  int64  \n",
      " 10  basin                  59400 non-null  object \n",
      " 11  subvillage             59029 non-null  object \n",
      " 12  region                 59400 non-null  object \n",
      " 13  region_code            59400 non-null  int64  \n",
      " 14  district_code          59400 non-null  int64  \n",
      " 15  lga                    59400 non-null  object \n",
      " 16  ward                   59400 non-null  object \n",
      " 17  population             59400 non-null  int64  \n",
      " 18  public_meeting         56066 non-null  object \n",
      " 19  recorded_by            59400 non-null  object \n",
      " 20  scheme_management      55523 non-null  object \n",
      " 21  scheme_name            31234 non-null  object \n",
      " 22  permit                 56344 non-null  object \n",
      " 23  construction_year      59400 non-null  int64  \n",
      " 24  extraction_type        59400 non-null  object \n",
      " 25  extraction_type_group  59400 non-null  object \n",
      " 26  extraction_type_class  59400 non-null  object \n",
      " 27  management             59400 non-null  object \n",
      " 28  management_group       59400 non-null  object \n",
      " 29  payment                59400 non-null  object \n",
      " 30  payment_type           59400 non-null  object \n",
      " 31  water_quality          59400 non-null  object \n",
      " 32  quality_group          59400 non-null  object \n",
      " 33  quantity               59400 non-null  object \n",
      " 34  quantity_group         59400 non-null  object \n",
      " 35  source                 59400 non-null  object \n",
      " 36  source_type            59400 non-null  object \n",
      " 37  source_class           59400 non-null  object \n",
      " 38  waterpoint_type        59400 non-null  object \n",
      " 39  waterpoint_type_group  59400 non-null  object \n",
      " 40  status_group           59400 non-null  object \n",
      "dtypes: float64(3), int64(7), object(31)\n",
      "memory usage: 19.0+ MB\n"
     ]
    }
   ],
   "source": [
    "df.info()"
   ]
  },
  {
   "cell_type": "code",
   "execution_count": 9,
   "id": "1d3a91dc",
   "metadata": {},
   "outputs": [
    {
     "data": {
      "text/html": [
       "<div>\n",
       "<style scoped>\n",
       "    .dataframe tbody tr th:only-of-type {\n",
       "        vertical-align: middle;\n",
       "    }\n",
       "\n",
       "    .dataframe tbody tr th {\n",
       "        vertical-align: top;\n",
       "    }\n",
       "\n",
       "    .dataframe thead th {\n",
       "        text-align: right;\n",
       "    }\n",
       "</style>\n",
       "<table border=\"1\" class=\"dataframe\">\n",
       "  <thead>\n",
       "    <tr style=\"text-align: right;\">\n",
       "      <th></th>\n",
       "      <th>id</th>\n",
       "      <th>amount_tsh</th>\n",
       "      <th>gps_height</th>\n",
       "      <th>longitude</th>\n",
       "      <th>latitude</th>\n",
       "      <th>num_private</th>\n",
       "      <th>region_code</th>\n",
       "      <th>district_code</th>\n",
       "      <th>population</th>\n",
       "      <th>construction_year</th>\n",
       "    </tr>\n",
       "  </thead>\n",
       "  <tbody>\n",
       "    <tr>\n",
       "      <th>count</th>\n",
       "      <td>59400.000000</td>\n",
       "      <td>59400.000000</td>\n",
       "      <td>59400.000000</td>\n",
       "      <td>59400.000000</td>\n",
       "      <td>5.940000e+04</td>\n",
       "      <td>59400.000000</td>\n",
       "      <td>59400.000000</td>\n",
       "      <td>59400.000000</td>\n",
       "      <td>59400.000000</td>\n",
       "      <td>59400.000000</td>\n",
       "    </tr>\n",
       "    <tr>\n",
       "      <th>mean</th>\n",
       "      <td>37115.131768</td>\n",
       "      <td>317.650385</td>\n",
       "      <td>668.297239</td>\n",
       "      <td>34.077427</td>\n",
       "      <td>-5.706033e+00</td>\n",
       "      <td>0.474141</td>\n",
       "      <td>15.297003</td>\n",
       "      <td>5.629747</td>\n",
       "      <td>179.909983</td>\n",
       "      <td>1300.652475</td>\n",
       "    </tr>\n",
       "    <tr>\n",
       "      <th>std</th>\n",
       "      <td>21453.128371</td>\n",
       "      <td>2997.574558</td>\n",
       "      <td>693.116350</td>\n",
       "      <td>6.567432</td>\n",
       "      <td>2.946019e+00</td>\n",
       "      <td>12.236230</td>\n",
       "      <td>17.587406</td>\n",
       "      <td>9.633649</td>\n",
       "      <td>471.482176</td>\n",
       "      <td>951.620547</td>\n",
       "    </tr>\n",
       "    <tr>\n",
       "      <th>min</th>\n",
       "      <td>0.000000</td>\n",
       "      <td>0.000000</td>\n",
       "      <td>-90.000000</td>\n",
       "      <td>0.000000</td>\n",
       "      <td>-1.164944e+01</td>\n",
       "      <td>0.000000</td>\n",
       "      <td>1.000000</td>\n",
       "      <td>0.000000</td>\n",
       "      <td>0.000000</td>\n",
       "      <td>0.000000</td>\n",
       "    </tr>\n",
       "    <tr>\n",
       "      <th>25%</th>\n",
       "      <td>18519.750000</td>\n",
       "      <td>0.000000</td>\n",
       "      <td>0.000000</td>\n",
       "      <td>33.090347</td>\n",
       "      <td>-8.540621e+00</td>\n",
       "      <td>0.000000</td>\n",
       "      <td>5.000000</td>\n",
       "      <td>2.000000</td>\n",
       "      <td>0.000000</td>\n",
       "      <td>0.000000</td>\n",
       "    </tr>\n",
       "    <tr>\n",
       "      <th>50%</th>\n",
       "      <td>37061.500000</td>\n",
       "      <td>0.000000</td>\n",
       "      <td>369.000000</td>\n",
       "      <td>34.908743</td>\n",
       "      <td>-5.021597e+00</td>\n",
       "      <td>0.000000</td>\n",
       "      <td>12.000000</td>\n",
       "      <td>3.000000</td>\n",
       "      <td>25.000000</td>\n",
       "      <td>1986.000000</td>\n",
       "    </tr>\n",
       "    <tr>\n",
       "      <th>75%</th>\n",
       "      <td>55656.500000</td>\n",
       "      <td>20.000000</td>\n",
       "      <td>1319.250000</td>\n",
       "      <td>37.178387</td>\n",
       "      <td>-3.326156e+00</td>\n",
       "      <td>0.000000</td>\n",
       "      <td>17.000000</td>\n",
       "      <td>5.000000</td>\n",
       "      <td>215.000000</td>\n",
       "      <td>2004.000000</td>\n",
       "    </tr>\n",
       "    <tr>\n",
       "      <th>max</th>\n",
       "      <td>74247.000000</td>\n",
       "      <td>350000.000000</td>\n",
       "      <td>2770.000000</td>\n",
       "      <td>40.345193</td>\n",
       "      <td>-2.000000e-08</td>\n",
       "      <td>1776.000000</td>\n",
       "      <td>99.000000</td>\n",
       "      <td>80.000000</td>\n",
       "      <td>30500.000000</td>\n",
       "      <td>2013.000000</td>\n",
       "    </tr>\n",
       "  </tbody>\n",
       "</table>\n",
       "</div>"
      ],
      "text/plain": [
       "                 id     amount_tsh    gps_height     longitude      latitude  \\\n",
       "count  59400.000000   59400.000000  59400.000000  59400.000000  5.940000e+04   \n",
       "mean   37115.131768     317.650385    668.297239     34.077427 -5.706033e+00   \n",
       "std    21453.128371    2997.574558    693.116350      6.567432  2.946019e+00   \n",
       "min        0.000000       0.000000    -90.000000      0.000000 -1.164944e+01   \n",
       "25%    18519.750000       0.000000      0.000000     33.090347 -8.540621e+00   \n",
       "50%    37061.500000       0.000000    369.000000     34.908743 -5.021597e+00   \n",
       "75%    55656.500000      20.000000   1319.250000     37.178387 -3.326156e+00   \n",
       "max    74247.000000  350000.000000   2770.000000     40.345193 -2.000000e-08   \n",
       "\n",
       "        num_private   region_code  district_code    population  \\\n",
       "count  59400.000000  59400.000000   59400.000000  59400.000000   \n",
       "mean       0.474141     15.297003       5.629747    179.909983   \n",
       "std       12.236230     17.587406       9.633649    471.482176   \n",
       "min        0.000000      1.000000       0.000000      0.000000   \n",
       "25%        0.000000      5.000000       2.000000      0.000000   \n",
       "50%        0.000000     12.000000       3.000000     25.000000   \n",
       "75%        0.000000     17.000000       5.000000    215.000000   \n",
       "max     1776.000000     99.000000      80.000000  30500.000000   \n",
       "\n",
       "       construction_year  \n",
       "count       59400.000000  \n",
       "mean         1300.652475  \n",
       "std           951.620547  \n",
       "min             0.000000  \n",
       "25%             0.000000  \n",
       "50%          1986.000000  \n",
       "75%          2004.000000  \n",
       "max          2013.000000  "
      ]
     },
     "execution_count": 9,
     "metadata": {},
     "output_type": "execute_result"
    }
   ],
   "source": [
    "df.describe()"
   ]
  },
  {
   "cell_type": "code",
   "execution_count": 10,
   "id": "de3f750a",
   "metadata": {},
   "outputs": [
    {
     "data": {
      "text/plain": [
       "funder               True\n",
       "installer            True\n",
       "subvillage           True\n",
       "public_meeting       True\n",
       "scheme_management    True\n",
       "scheme_name          True\n",
       "permit               True\n",
       "dtype: bool"
      ]
     },
     "execution_count": 10,
     "metadata": {},
     "output_type": "execute_result"
    }
   ],
   "source": [
    "df.isna().any()[df.isna().any() == True]"
   ]
  },
  {
   "cell_type": "code",
   "execution_count": 11,
   "id": "d1f63db7",
   "metadata": {},
   "outputs": [
    {
     "data": {
      "text/plain": [
       "funder               0.061195\n",
       "installer            0.061532\n",
       "subvillage           0.006246\n",
       "public_meeting       0.056128\n",
       "scheme_management    0.065269\n",
       "scheme_name          0.474175\n",
       "permit               0.051448\n",
       "dtype: float64"
      ]
     },
     "execution_count": 11,
     "metadata": {},
     "output_type": "execute_result"
    }
   ],
   "source": [
    "df.isna().mean()[df.isna().mean() > 0]"
   ]
  },
  {
   "cell_type": "markdown",
   "id": "f97d25ea",
   "metadata": {},
   "source": [
    "The Scheme_Name columns has about 47% missing data. We will drop this column.\n",
    "\n",
    "We will also drop the null rows of the other columns since they consist of a small percentage of the data (<7%)."
   ]
  },
  {
   "cell_type": "code",
   "execution_count": 12,
   "id": "651671cf",
   "metadata": {},
   "outputs": [],
   "source": [
    "df.drop(axis=1,columns=['scheme_name'],inplace=True)"
   ]
  },
  {
   "cell_type": "code",
   "execution_count": 13,
   "id": "dddf19b0",
   "metadata": {},
   "outputs": [],
   "source": [
    "df.dropna(inplace=True)"
   ]
  },
  {
   "cell_type": "markdown",
   "id": "7ac405cf",
   "metadata": {},
   "source": [
    "We will confirm that the null values have been dropped"
   ]
  },
  {
   "cell_type": "code",
   "execution_count": 14,
   "id": "ace832c9",
   "metadata": {},
   "outputs": [
    {
     "data": {
      "text/plain": [
       "Series([], dtype: float64)"
      ]
     },
     "execution_count": 14,
     "metadata": {},
     "output_type": "execute_result"
    }
   ],
   "source": [
    "df.isna().mean()[df.isna().mean() > 0]"
   ]
  },
  {
   "cell_type": "code",
   "execution_count": 15,
   "id": "c4bb4e13",
   "metadata": {},
   "outputs": [
    {
     "name": "stdout",
     "output_type": "stream",
     "text": [
      "<class 'pandas.core.frame.DataFrame'>\n",
      "Int64Index: 48288 entries, 0 to 59399\n",
      "Data columns (total 40 columns):\n",
      " #   Column                 Non-Null Count  Dtype  \n",
      "---  ------                 --------------  -----  \n",
      " 0   id                     48288 non-null  int64  \n",
      " 1   amount_tsh             48288 non-null  float64\n",
      " 2   date_recorded          48288 non-null  object \n",
      " 3   funder                 48288 non-null  object \n",
      " 4   gps_height             48288 non-null  int64  \n",
      " 5   installer              48288 non-null  object \n",
      " 6   longitude              48288 non-null  float64\n",
      " 7   latitude               48288 non-null  float64\n",
      " 8   wpt_name               48288 non-null  object \n",
      " 9   num_private            48288 non-null  int64  \n",
      " 10  basin                  48288 non-null  object \n",
      " 11  subvillage             48288 non-null  object \n",
      " 12  region                 48288 non-null  object \n",
      " 13  region_code            48288 non-null  int64  \n",
      " 14  district_code          48288 non-null  int64  \n",
      " 15  lga                    48288 non-null  object \n",
      " 16  ward                   48288 non-null  object \n",
      " 17  population             48288 non-null  int64  \n",
      " 18  public_meeting         48288 non-null  object \n",
      " 19  recorded_by            48288 non-null  object \n",
      " 20  scheme_management      48288 non-null  object \n",
      " 21  permit                 48288 non-null  object \n",
      " 22  construction_year      48288 non-null  int64  \n",
      " 23  extraction_type        48288 non-null  object \n",
      " 24  extraction_type_group  48288 non-null  object \n",
      " 25  extraction_type_class  48288 non-null  object \n",
      " 26  management             48288 non-null  object \n",
      " 27  management_group       48288 non-null  object \n",
      " 28  payment                48288 non-null  object \n",
      " 29  payment_type           48288 non-null  object \n",
      " 30  water_quality          48288 non-null  object \n",
      " 31  quality_group          48288 non-null  object \n",
      " 32  quantity               48288 non-null  object \n",
      " 33  quantity_group         48288 non-null  object \n",
      " 34  source                 48288 non-null  object \n",
      " 35  source_type            48288 non-null  object \n",
      " 36  source_class           48288 non-null  object \n",
      " 37  waterpoint_type        48288 non-null  object \n",
      " 38  waterpoint_type_group  48288 non-null  object \n",
      " 39  status_group           48288 non-null  object \n",
      "dtypes: float64(3), int64(7), object(30)\n",
      "memory usage: 15.1+ MB\n"
     ]
    }
   ],
   "source": [
    "df.info()"
   ]
  },
  {
   "cell_type": "code",
   "execution_count": 16,
   "id": "7be61004",
   "metadata": {},
   "outputs": [
    {
     "data": {
      "text/html": [
       "<div>\n",
       "<style scoped>\n",
       "    .dataframe tbody tr th:only-of-type {\n",
       "        vertical-align: middle;\n",
       "    }\n",
       "\n",
       "    .dataframe tbody tr th {\n",
       "        vertical-align: top;\n",
       "    }\n",
       "\n",
       "    .dataframe thead th {\n",
       "        text-align: right;\n",
       "    }\n",
       "</style>\n",
       "<table border=\"1\" class=\"dataframe\">\n",
       "  <thead>\n",
       "    <tr style=\"text-align: right;\">\n",
       "      <th></th>\n",
       "      <th>id</th>\n",
       "      <th>amount_tsh</th>\n",
       "      <th>gps_height</th>\n",
       "      <th>longitude</th>\n",
       "      <th>latitude</th>\n",
       "      <th>num_private</th>\n",
       "      <th>region_code</th>\n",
       "      <th>district_code</th>\n",
       "      <th>population</th>\n",
       "      <th>construction_year</th>\n",
       "    </tr>\n",
       "  </thead>\n",
       "  <tbody>\n",
       "    <tr>\n",
       "      <th>0</th>\n",
       "      <td>69572</td>\n",
       "      <td>6000.0</td>\n",
       "      <td>1390</td>\n",
       "      <td>34.938093</td>\n",
       "      <td>-9.856322</td>\n",
       "      <td>0</td>\n",
       "      <td>11</td>\n",
       "      <td>5</td>\n",
       "      <td>109</td>\n",
       "      <td>1999</td>\n",
       "    </tr>\n",
       "    <tr>\n",
       "      <th>2</th>\n",
       "      <td>34310</td>\n",
       "      <td>25.0</td>\n",
       "      <td>686</td>\n",
       "      <td>37.460664</td>\n",
       "      <td>-3.821329</td>\n",
       "      <td>0</td>\n",
       "      <td>21</td>\n",
       "      <td>4</td>\n",
       "      <td>250</td>\n",
       "      <td>2009</td>\n",
       "    </tr>\n",
       "    <tr>\n",
       "      <th>3</th>\n",
       "      <td>67743</td>\n",
       "      <td>0.0</td>\n",
       "      <td>263</td>\n",
       "      <td>38.486161</td>\n",
       "      <td>-11.155298</td>\n",
       "      <td>0</td>\n",
       "      <td>90</td>\n",
       "      <td>63</td>\n",
       "      <td>58</td>\n",
       "      <td>1986</td>\n",
       "    </tr>\n",
       "    <tr>\n",
       "      <th>5</th>\n",
       "      <td>9944</td>\n",
       "      <td>20.0</td>\n",
       "      <td>0</td>\n",
       "      <td>39.172796</td>\n",
       "      <td>-4.765587</td>\n",
       "      <td>0</td>\n",
       "      <td>4</td>\n",
       "      <td>8</td>\n",
       "      <td>1</td>\n",
       "      <td>2009</td>\n",
       "    </tr>\n",
       "    <tr>\n",
       "      <th>6</th>\n",
       "      <td>19816</td>\n",
       "      <td>0.0</td>\n",
       "      <td>0</td>\n",
       "      <td>33.362410</td>\n",
       "      <td>-3.766365</td>\n",
       "      <td>0</td>\n",
       "      <td>17</td>\n",
       "      <td>3</td>\n",
       "      <td>0</td>\n",
       "      <td>0</td>\n",
       "    </tr>\n",
       "    <tr>\n",
       "      <th>...</th>\n",
       "      <td>...</td>\n",
       "      <td>...</td>\n",
       "      <td>...</td>\n",
       "      <td>...</td>\n",
       "      <td>...</td>\n",
       "      <td>...</td>\n",
       "      <td>...</td>\n",
       "      <td>...</td>\n",
       "      <td>...</td>\n",
       "      <td>...</td>\n",
       "    </tr>\n",
       "    <tr>\n",
       "      <th>59394</th>\n",
       "      <td>11164</td>\n",
       "      <td>500.0</td>\n",
       "      <td>351</td>\n",
       "      <td>37.634053</td>\n",
       "      <td>-6.124830</td>\n",
       "      <td>0</td>\n",
       "      <td>5</td>\n",
       "      <td>6</td>\n",
       "      <td>89</td>\n",
       "      <td>2007</td>\n",
       "    </tr>\n",
       "    <tr>\n",
       "      <th>59395</th>\n",
       "      <td>60739</td>\n",
       "      <td>10.0</td>\n",
       "      <td>1210</td>\n",
       "      <td>37.169807</td>\n",
       "      <td>-3.253847</td>\n",
       "      <td>0</td>\n",
       "      <td>3</td>\n",
       "      <td>5</td>\n",
       "      <td>125</td>\n",
       "      <td>1999</td>\n",
       "    </tr>\n",
       "    <tr>\n",
       "      <th>59396</th>\n",
       "      <td>27263</td>\n",
       "      <td>4700.0</td>\n",
       "      <td>1212</td>\n",
       "      <td>35.249991</td>\n",
       "      <td>-9.070629</td>\n",
       "      <td>0</td>\n",
       "      <td>11</td>\n",
       "      <td>4</td>\n",
       "      <td>56</td>\n",
       "      <td>1996</td>\n",
       "    </tr>\n",
       "    <tr>\n",
       "      <th>59398</th>\n",
       "      <td>31282</td>\n",
       "      <td>0.0</td>\n",
       "      <td>0</td>\n",
       "      <td>35.861315</td>\n",
       "      <td>-6.378573</td>\n",
       "      <td>0</td>\n",
       "      <td>1</td>\n",
       "      <td>4</td>\n",
       "      <td>0</td>\n",
       "      <td>0</td>\n",
       "    </tr>\n",
       "    <tr>\n",
       "      <th>59399</th>\n",
       "      <td>26348</td>\n",
       "      <td>0.0</td>\n",
       "      <td>191</td>\n",
       "      <td>38.104048</td>\n",
       "      <td>-6.747464</td>\n",
       "      <td>0</td>\n",
       "      <td>5</td>\n",
       "      <td>2</td>\n",
       "      <td>150</td>\n",
       "      <td>2002</td>\n",
       "    </tr>\n",
       "  </tbody>\n",
       "</table>\n",
       "<p>48288 rows × 10 columns</p>\n",
       "</div>"
      ],
      "text/plain": [
       "          id  amount_tsh  gps_height  longitude   latitude  num_private  \\\n",
       "0      69572      6000.0        1390  34.938093  -9.856322            0   \n",
       "2      34310        25.0         686  37.460664  -3.821329            0   \n",
       "3      67743         0.0         263  38.486161 -11.155298            0   \n",
       "5       9944        20.0           0  39.172796  -4.765587            0   \n",
       "6      19816         0.0           0  33.362410  -3.766365            0   \n",
       "...      ...         ...         ...        ...        ...          ...   \n",
       "59394  11164       500.0         351  37.634053  -6.124830            0   \n",
       "59395  60739        10.0        1210  37.169807  -3.253847            0   \n",
       "59396  27263      4700.0        1212  35.249991  -9.070629            0   \n",
       "59398  31282         0.0           0  35.861315  -6.378573            0   \n",
       "59399  26348         0.0         191  38.104048  -6.747464            0   \n",
       "\n",
       "       region_code  district_code  population  construction_year  \n",
       "0               11              5         109               1999  \n",
       "2               21              4         250               2009  \n",
       "3               90             63          58               1986  \n",
       "5                4              8           1               2009  \n",
       "6               17              3           0                  0  \n",
       "...            ...            ...         ...                ...  \n",
       "59394            5              6          89               2007  \n",
       "59395            3              5         125               1999  \n",
       "59396           11              4          56               1996  \n",
       "59398            1              4           0                  0  \n",
       "59399            5              2         150               2002  \n",
       "\n",
       "[48288 rows x 10 columns]"
      ]
     },
     "execution_count": 16,
     "metadata": {},
     "output_type": "execute_result"
    }
   ],
   "source": [
    "df.select_dtypes('number')"
   ]
  },
  {
   "cell_type": "code",
   "execution_count": 17,
   "id": "93af6a49",
   "metadata": {},
   "outputs": [
    {
     "data": {
      "text/html": [
       "<div>\n",
       "<style scoped>\n",
       "    .dataframe tbody tr th:only-of-type {\n",
       "        vertical-align: middle;\n",
       "    }\n",
       "\n",
       "    .dataframe tbody tr th {\n",
       "        vertical-align: top;\n",
       "    }\n",
       "\n",
       "    .dataframe thead th {\n",
       "        text-align: right;\n",
       "    }\n",
       "</style>\n",
       "<table border=\"1\" class=\"dataframe\">\n",
       "  <thead>\n",
       "    <tr style=\"text-align: right;\">\n",
       "      <th></th>\n",
       "      <th>date_recorded</th>\n",
       "      <th>funder</th>\n",
       "      <th>installer</th>\n",
       "      <th>wpt_name</th>\n",
       "      <th>basin</th>\n",
       "      <th>subvillage</th>\n",
       "      <th>region</th>\n",
       "      <th>lga</th>\n",
       "      <th>ward</th>\n",
       "      <th>public_meeting</th>\n",
       "      <th>...</th>\n",
       "      <th>water_quality</th>\n",
       "      <th>quality_group</th>\n",
       "      <th>quantity</th>\n",
       "      <th>quantity_group</th>\n",
       "      <th>source</th>\n",
       "      <th>source_type</th>\n",
       "      <th>source_class</th>\n",
       "      <th>waterpoint_type</th>\n",
       "      <th>waterpoint_type_group</th>\n",
       "      <th>status_group</th>\n",
       "    </tr>\n",
       "  </thead>\n",
       "  <tbody>\n",
       "    <tr>\n",
       "      <th>0</th>\n",
       "      <td>2011-03-14</td>\n",
       "      <td>Roman</td>\n",
       "      <td>Roman</td>\n",
       "      <td>none</td>\n",
       "      <td>Lake Nyasa</td>\n",
       "      <td>Mnyusi B</td>\n",
       "      <td>Iringa</td>\n",
       "      <td>Ludewa</td>\n",
       "      <td>Mundindi</td>\n",
       "      <td>True</td>\n",
       "      <td>...</td>\n",
       "      <td>soft</td>\n",
       "      <td>good</td>\n",
       "      <td>enough</td>\n",
       "      <td>enough</td>\n",
       "      <td>spring</td>\n",
       "      <td>spring</td>\n",
       "      <td>groundwater</td>\n",
       "      <td>communal standpipe</td>\n",
       "      <td>communal standpipe</td>\n",
       "      <td>functional</td>\n",
       "    </tr>\n",
       "    <tr>\n",
       "      <th>2</th>\n",
       "      <td>2013-02-25</td>\n",
       "      <td>Lottery Club</td>\n",
       "      <td>World vision</td>\n",
       "      <td>Kwa Mahundi</td>\n",
       "      <td>Pangani</td>\n",
       "      <td>Majengo</td>\n",
       "      <td>Manyara</td>\n",
       "      <td>Simanjiro</td>\n",
       "      <td>Ngorika</td>\n",
       "      <td>True</td>\n",
       "      <td>...</td>\n",
       "      <td>soft</td>\n",
       "      <td>good</td>\n",
       "      <td>enough</td>\n",
       "      <td>enough</td>\n",
       "      <td>dam</td>\n",
       "      <td>dam</td>\n",
       "      <td>surface</td>\n",
       "      <td>communal standpipe multiple</td>\n",
       "      <td>communal standpipe</td>\n",
       "      <td>functional</td>\n",
       "    </tr>\n",
       "    <tr>\n",
       "      <th>3</th>\n",
       "      <td>2013-01-28</td>\n",
       "      <td>Unicef</td>\n",
       "      <td>UNICEF</td>\n",
       "      <td>Zahanati Ya Nanyumbu</td>\n",
       "      <td>Ruvuma / Southern Coast</td>\n",
       "      <td>Mahakamani</td>\n",
       "      <td>Mtwara</td>\n",
       "      <td>Nanyumbu</td>\n",
       "      <td>Nanyumbu</td>\n",
       "      <td>True</td>\n",
       "      <td>...</td>\n",
       "      <td>soft</td>\n",
       "      <td>good</td>\n",
       "      <td>dry</td>\n",
       "      <td>dry</td>\n",
       "      <td>machine dbh</td>\n",
       "      <td>borehole</td>\n",
       "      <td>groundwater</td>\n",
       "      <td>communal standpipe multiple</td>\n",
       "      <td>communal standpipe</td>\n",
       "      <td>non functional</td>\n",
       "    </tr>\n",
       "    <tr>\n",
       "      <th>5</th>\n",
       "      <td>2011-03-13</td>\n",
       "      <td>Mkinga Distric Coun</td>\n",
       "      <td>DWE</td>\n",
       "      <td>Tajiri</td>\n",
       "      <td>Pangani</td>\n",
       "      <td>Moa/Mwereme</td>\n",
       "      <td>Tanga</td>\n",
       "      <td>Mkinga</td>\n",
       "      <td>Moa</td>\n",
       "      <td>True</td>\n",
       "      <td>...</td>\n",
       "      <td>salty</td>\n",
       "      <td>salty</td>\n",
       "      <td>enough</td>\n",
       "      <td>enough</td>\n",
       "      <td>other</td>\n",
       "      <td>other</td>\n",
       "      <td>unknown</td>\n",
       "      <td>communal standpipe multiple</td>\n",
       "      <td>communal standpipe</td>\n",
       "      <td>functional</td>\n",
       "    </tr>\n",
       "    <tr>\n",
       "      <th>6</th>\n",
       "      <td>2012-10-01</td>\n",
       "      <td>Dwsp</td>\n",
       "      <td>DWSP</td>\n",
       "      <td>Kwa Ngomho</td>\n",
       "      <td>Internal</td>\n",
       "      <td>Ishinabulandi</td>\n",
       "      <td>Shinyanga</td>\n",
       "      <td>Shinyanga Rural</td>\n",
       "      <td>Samuye</td>\n",
       "      <td>True</td>\n",
       "      <td>...</td>\n",
       "      <td>soft</td>\n",
       "      <td>good</td>\n",
       "      <td>enough</td>\n",
       "      <td>enough</td>\n",
       "      <td>machine dbh</td>\n",
       "      <td>borehole</td>\n",
       "      <td>groundwater</td>\n",
       "      <td>hand pump</td>\n",
       "      <td>hand pump</td>\n",
       "      <td>non functional</td>\n",
       "    </tr>\n",
       "    <tr>\n",
       "      <th>...</th>\n",
       "      <td>...</td>\n",
       "      <td>...</td>\n",
       "      <td>...</td>\n",
       "      <td>...</td>\n",
       "      <td>...</td>\n",
       "      <td>...</td>\n",
       "      <td>...</td>\n",
       "      <td>...</td>\n",
       "      <td>...</td>\n",
       "      <td>...</td>\n",
       "      <td>...</td>\n",
       "      <td>...</td>\n",
       "      <td>...</td>\n",
       "      <td>...</td>\n",
       "      <td>...</td>\n",
       "      <td>...</td>\n",
       "      <td>...</td>\n",
       "      <td>...</td>\n",
       "      <td>...</td>\n",
       "      <td>...</td>\n",
       "      <td>...</td>\n",
       "    </tr>\n",
       "    <tr>\n",
       "      <th>59394</th>\n",
       "      <td>2011-03-09</td>\n",
       "      <td>World Bank</td>\n",
       "      <td>ML appro</td>\n",
       "      <td>Chimeredya</td>\n",
       "      <td>Wami / Ruvu</td>\n",
       "      <td>Komstari</td>\n",
       "      <td>Morogoro</td>\n",
       "      <td>Mvomero</td>\n",
       "      <td>Diongoya</td>\n",
       "      <td>True</td>\n",
       "      <td>...</td>\n",
       "      <td>soft</td>\n",
       "      <td>good</td>\n",
       "      <td>enough</td>\n",
       "      <td>enough</td>\n",
       "      <td>machine dbh</td>\n",
       "      <td>borehole</td>\n",
       "      <td>groundwater</td>\n",
       "      <td>communal standpipe</td>\n",
       "      <td>communal standpipe</td>\n",
       "      <td>non functional</td>\n",
       "    </tr>\n",
       "    <tr>\n",
       "      <th>59395</th>\n",
       "      <td>2013-05-03</td>\n",
       "      <td>Germany Republi</td>\n",
       "      <td>CES</td>\n",
       "      <td>Area Three Namba 27</td>\n",
       "      <td>Pangani</td>\n",
       "      <td>Kiduruni</td>\n",
       "      <td>Kilimanjaro</td>\n",
       "      <td>Hai</td>\n",
       "      <td>Masama Magharibi</td>\n",
       "      <td>True</td>\n",
       "      <td>...</td>\n",
       "      <td>soft</td>\n",
       "      <td>good</td>\n",
       "      <td>enough</td>\n",
       "      <td>enough</td>\n",
       "      <td>spring</td>\n",
       "      <td>spring</td>\n",
       "      <td>groundwater</td>\n",
       "      <td>communal standpipe</td>\n",
       "      <td>communal standpipe</td>\n",
       "      <td>functional</td>\n",
       "    </tr>\n",
       "    <tr>\n",
       "      <th>59396</th>\n",
       "      <td>2011-05-07</td>\n",
       "      <td>Cefa-njombe</td>\n",
       "      <td>Cefa</td>\n",
       "      <td>Kwa Yahona Kuvala</td>\n",
       "      <td>Rufiji</td>\n",
       "      <td>Igumbilo</td>\n",
       "      <td>Iringa</td>\n",
       "      <td>Njombe</td>\n",
       "      <td>Ikondo</td>\n",
       "      <td>True</td>\n",
       "      <td>...</td>\n",
       "      <td>soft</td>\n",
       "      <td>good</td>\n",
       "      <td>enough</td>\n",
       "      <td>enough</td>\n",
       "      <td>river</td>\n",
       "      <td>river/lake</td>\n",
       "      <td>surface</td>\n",
       "      <td>communal standpipe</td>\n",
       "      <td>communal standpipe</td>\n",
       "      <td>functional</td>\n",
       "    </tr>\n",
       "    <tr>\n",
       "      <th>59398</th>\n",
       "      <td>2011-03-08</td>\n",
       "      <td>Malec</td>\n",
       "      <td>Musa</td>\n",
       "      <td>Mshoro</td>\n",
       "      <td>Rufiji</td>\n",
       "      <td>Mwinyi</td>\n",
       "      <td>Dodoma</td>\n",
       "      <td>Chamwino</td>\n",
       "      <td>Mvumi Makulu</td>\n",
       "      <td>True</td>\n",
       "      <td>...</td>\n",
       "      <td>soft</td>\n",
       "      <td>good</td>\n",
       "      <td>insufficient</td>\n",
       "      <td>insufficient</td>\n",
       "      <td>shallow well</td>\n",
       "      <td>shallow well</td>\n",
       "      <td>groundwater</td>\n",
       "      <td>hand pump</td>\n",
       "      <td>hand pump</td>\n",
       "      <td>functional</td>\n",
       "    </tr>\n",
       "    <tr>\n",
       "      <th>59399</th>\n",
       "      <td>2011-03-23</td>\n",
       "      <td>World Bank</td>\n",
       "      <td>World</td>\n",
       "      <td>Kwa Mzee Lugawa</td>\n",
       "      <td>Wami / Ruvu</td>\n",
       "      <td>Kikatanyemba</td>\n",
       "      <td>Morogoro</td>\n",
       "      <td>Morogoro Rural</td>\n",
       "      <td>Ngerengere</td>\n",
       "      <td>True</td>\n",
       "      <td>...</td>\n",
       "      <td>salty</td>\n",
       "      <td>salty</td>\n",
       "      <td>enough</td>\n",
       "      <td>enough</td>\n",
       "      <td>shallow well</td>\n",
       "      <td>shallow well</td>\n",
       "      <td>groundwater</td>\n",
       "      <td>hand pump</td>\n",
       "      <td>hand pump</td>\n",
       "      <td>functional</td>\n",
       "    </tr>\n",
       "  </tbody>\n",
       "</table>\n",
       "<p>48288 rows × 30 columns</p>\n",
       "</div>"
      ],
      "text/plain": [
       "      date_recorded               funder     installer              wpt_name  \\\n",
       "0        2011-03-14                Roman         Roman                  none   \n",
       "2        2013-02-25         Lottery Club  World vision           Kwa Mahundi   \n",
       "3        2013-01-28               Unicef        UNICEF  Zahanati Ya Nanyumbu   \n",
       "5        2011-03-13  Mkinga Distric Coun           DWE                Tajiri   \n",
       "6        2012-10-01                 Dwsp          DWSP            Kwa Ngomho   \n",
       "...             ...                  ...           ...                   ...   \n",
       "59394    2011-03-09           World Bank      ML appro            Chimeredya   \n",
       "59395    2013-05-03      Germany Republi           CES   Area Three Namba 27   \n",
       "59396    2011-05-07          Cefa-njombe          Cefa     Kwa Yahona Kuvala   \n",
       "59398    2011-03-08                Malec          Musa                Mshoro   \n",
       "59399    2011-03-23           World Bank         World       Kwa Mzee Lugawa   \n",
       "\n",
       "                         basin     subvillage       region              lga  \\\n",
       "0                   Lake Nyasa       Mnyusi B       Iringa           Ludewa   \n",
       "2                      Pangani        Majengo      Manyara        Simanjiro   \n",
       "3      Ruvuma / Southern Coast     Mahakamani       Mtwara         Nanyumbu   \n",
       "5                      Pangani    Moa/Mwereme        Tanga           Mkinga   \n",
       "6                     Internal  Ishinabulandi    Shinyanga  Shinyanga Rural   \n",
       "...                        ...            ...          ...              ...   \n",
       "59394              Wami / Ruvu       Komstari     Morogoro          Mvomero   \n",
       "59395                  Pangani       Kiduruni  Kilimanjaro              Hai   \n",
       "59396                   Rufiji       Igumbilo       Iringa           Njombe   \n",
       "59398                   Rufiji         Mwinyi       Dodoma         Chamwino   \n",
       "59399              Wami / Ruvu   Kikatanyemba     Morogoro   Morogoro Rural   \n",
       "\n",
       "                   ward public_meeting  ... water_quality quality_group  \\\n",
       "0              Mundindi           True  ...          soft          good   \n",
       "2               Ngorika           True  ...          soft          good   \n",
       "3              Nanyumbu           True  ...          soft          good   \n",
       "5                   Moa           True  ...         salty         salty   \n",
       "6                Samuye           True  ...          soft          good   \n",
       "...                 ...            ...  ...           ...           ...   \n",
       "59394          Diongoya           True  ...          soft          good   \n",
       "59395  Masama Magharibi           True  ...          soft          good   \n",
       "59396            Ikondo           True  ...          soft          good   \n",
       "59398      Mvumi Makulu           True  ...          soft          good   \n",
       "59399        Ngerengere           True  ...         salty         salty   \n",
       "\n",
       "           quantity quantity_group        source   source_type source_class  \\\n",
       "0            enough         enough        spring        spring  groundwater   \n",
       "2            enough         enough           dam           dam      surface   \n",
       "3               dry            dry   machine dbh      borehole  groundwater   \n",
       "5            enough         enough         other         other      unknown   \n",
       "6            enough         enough   machine dbh      borehole  groundwater   \n",
       "...             ...            ...           ...           ...          ...   \n",
       "59394        enough         enough   machine dbh      borehole  groundwater   \n",
       "59395        enough         enough        spring        spring  groundwater   \n",
       "59396        enough         enough         river    river/lake      surface   \n",
       "59398  insufficient   insufficient  shallow well  shallow well  groundwater   \n",
       "59399        enough         enough  shallow well  shallow well  groundwater   \n",
       "\n",
       "                   waterpoint_type waterpoint_type_group    status_group  \n",
       "0               communal standpipe    communal standpipe      functional  \n",
       "2      communal standpipe multiple    communal standpipe      functional  \n",
       "3      communal standpipe multiple    communal standpipe  non functional  \n",
       "5      communal standpipe multiple    communal standpipe      functional  \n",
       "6                        hand pump             hand pump  non functional  \n",
       "...                            ...                   ...             ...  \n",
       "59394           communal standpipe    communal standpipe  non functional  \n",
       "59395           communal standpipe    communal standpipe      functional  \n",
       "59396           communal standpipe    communal standpipe      functional  \n",
       "59398                    hand pump             hand pump      functional  \n",
       "59399                    hand pump             hand pump      functional  \n",
       "\n",
       "[48288 rows x 30 columns]"
      ]
     },
     "execution_count": 17,
     "metadata": {},
     "output_type": "execute_result"
    }
   ],
   "source": [
    "df.select_dtypes('object')"
   ]
  },
  {
   "cell_type": "code",
   "execution_count": 18,
   "id": "907c5a37",
   "metadata": {},
   "outputs": [
    {
     "data": {
      "text/plain": [
       "Index(['date_recorded', 'funder', 'installer', 'wpt_name', 'basin',\n",
       "       'subvillage', 'region', 'lga', 'ward', 'public_meeting', 'recorded_by',\n",
       "       'scheme_management', 'permit', 'extraction_type',\n",
       "       'extraction_type_group', 'extraction_type_class', 'management',\n",
       "       'management_group', 'payment', 'payment_type', 'water_quality',\n",
       "       'quality_group', 'quantity', 'quantity_group', 'source', 'source_type',\n",
       "       'source_class', 'waterpoint_type', 'waterpoint_type_group',\n",
       "       'status_group'],\n",
       "      dtype='object')"
      ]
     },
     "execution_count": 18,
     "metadata": {},
     "output_type": "execute_result"
    }
   ],
   "source": [
    "df.select_dtypes('object').columns"
   ]
  },
  {
   "cell_type": "code",
   "execution_count": 19,
   "id": "a31a4a0d",
   "metadata": {},
   "outputs": [
    {
     "data": {
      "text/plain": [
       "array([   0,   39,    5,   45,    6,    3,  698,   32,   15,    7,   25,\n",
       "        102,    1,   93,   14,   34,  120,   17,  213,   47,    8,   41,\n",
       "         80,  141,   20,   35,  131,    4,   22,   11,   87,   65,    2,\n",
       "        180,   38,   62,    9,   16,   23,   42,   24,   12,  668,  672,\n",
       "         58,  150,  280,   50, 1776,   27,   10,   94,   26,  240,  755,\n",
       "         60,   55, 1402], dtype=int64)"
      ]
     },
     "execution_count": 19,
     "metadata": {},
     "output_type": "execute_result"
    }
   ],
   "source": [
    "df['num_private'].unique()"
   ]
  },
  {
   "cell_type": "markdown",
   "id": "8a986118",
   "metadata": {},
   "source": [
    "We will add a column called Year Recorded.\n",
    "\n",
    "We will then drop the Date_Recorded column"
   ]
  },
  {
   "cell_type": "code",
   "execution_count": 20,
   "id": "837fb456",
   "metadata": {},
   "outputs": [],
   "source": [
    "df['Year_Recorded'] = df['date_recorded'].str.slice(0,4)"
   ]
  },
  {
   "cell_type": "code",
   "execution_count": 21,
   "id": "5beebd26",
   "metadata": {},
   "outputs": [
    {
     "data": {
      "text/html": [
       "<div>\n",
       "<style scoped>\n",
       "    .dataframe tbody tr th:only-of-type {\n",
       "        vertical-align: middle;\n",
       "    }\n",
       "\n",
       "    .dataframe tbody tr th {\n",
       "        vertical-align: top;\n",
       "    }\n",
       "\n",
       "    .dataframe thead th {\n",
       "        text-align: right;\n",
       "    }\n",
       "</style>\n",
       "<table border=\"1\" class=\"dataframe\">\n",
       "  <thead>\n",
       "    <tr style=\"text-align: right;\">\n",
       "      <th></th>\n",
       "      <th>date_recorded</th>\n",
       "      <th>Year_Recorded</th>\n",
       "    </tr>\n",
       "  </thead>\n",
       "  <tbody>\n",
       "    <tr>\n",
       "      <th>0</th>\n",
       "      <td>2011-03-14</td>\n",
       "      <td>2011</td>\n",
       "    </tr>\n",
       "    <tr>\n",
       "      <th>2</th>\n",
       "      <td>2013-02-25</td>\n",
       "      <td>2013</td>\n",
       "    </tr>\n",
       "    <tr>\n",
       "      <th>3</th>\n",
       "      <td>2013-01-28</td>\n",
       "      <td>2013</td>\n",
       "    </tr>\n",
       "    <tr>\n",
       "      <th>5</th>\n",
       "      <td>2011-03-13</td>\n",
       "      <td>2011</td>\n",
       "    </tr>\n",
       "    <tr>\n",
       "      <th>6</th>\n",
       "      <td>2012-10-01</td>\n",
       "      <td>2012</td>\n",
       "    </tr>\n",
       "    <tr>\n",
       "      <th>...</th>\n",
       "      <td>...</td>\n",
       "      <td>...</td>\n",
       "    </tr>\n",
       "    <tr>\n",
       "      <th>59394</th>\n",
       "      <td>2011-03-09</td>\n",
       "      <td>2011</td>\n",
       "    </tr>\n",
       "    <tr>\n",
       "      <th>59395</th>\n",
       "      <td>2013-05-03</td>\n",
       "      <td>2013</td>\n",
       "    </tr>\n",
       "    <tr>\n",
       "      <th>59396</th>\n",
       "      <td>2011-05-07</td>\n",
       "      <td>2011</td>\n",
       "    </tr>\n",
       "    <tr>\n",
       "      <th>59398</th>\n",
       "      <td>2011-03-08</td>\n",
       "      <td>2011</td>\n",
       "    </tr>\n",
       "    <tr>\n",
       "      <th>59399</th>\n",
       "      <td>2011-03-23</td>\n",
       "      <td>2011</td>\n",
       "    </tr>\n",
       "  </tbody>\n",
       "</table>\n",
       "<p>48288 rows × 2 columns</p>\n",
       "</div>"
      ],
      "text/plain": [
       "      date_recorded Year_Recorded\n",
       "0        2011-03-14          2011\n",
       "2        2013-02-25          2013\n",
       "3        2013-01-28          2013\n",
       "5        2011-03-13          2011\n",
       "6        2012-10-01          2012\n",
       "...             ...           ...\n",
       "59394    2011-03-09          2011\n",
       "59395    2013-05-03          2013\n",
       "59396    2011-05-07          2011\n",
       "59398    2011-03-08          2011\n",
       "59399    2011-03-23          2011\n",
       "\n",
       "[48288 rows x 2 columns]"
      ]
     },
     "execution_count": 21,
     "metadata": {},
     "output_type": "execute_result"
    }
   ],
   "source": [
    "df[['date_recorded','Year_Recorded']]"
   ]
  },
  {
   "cell_type": "code",
   "execution_count": 22,
   "id": "97649271",
   "metadata": {},
   "outputs": [],
   "source": [
    "df['Year_Recorded'] = df['Year_Recorded'].astype('int64')"
   ]
  },
  {
   "cell_type": "code",
   "execution_count": 23,
   "id": "e4683a61",
   "metadata": {},
   "outputs": [
    {
     "data": {
      "text/plain": [
       "array([2011, 2013, 2012, 2004, 2002], dtype=int64)"
      ]
     },
     "execution_count": 23,
     "metadata": {},
     "output_type": "execute_result"
    }
   ],
   "source": [
    "df['Year_Recorded'].unique()"
   ]
  },
  {
   "cell_type": "markdown",
   "id": "5930e4e0",
   "metadata": {},
   "source": [
    "We will now drop the date_recorded column"
   ]
  },
  {
   "cell_type": "code",
   "execution_count": 24,
   "id": "6f159c4d",
   "metadata": {},
   "outputs": [],
   "source": [
    "df.drop(axis=1,columns=['date_recorded'],inplace=True)"
   ]
  },
  {
   "cell_type": "code",
   "execution_count": 25,
   "id": "16f03a9a",
   "metadata": {},
   "outputs": [
    {
     "data": {
      "text/plain": [
       "Government Of Tanzania    8080\n",
       "Danida                    2920\n",
       "Hesawa                    1388\n",
       "Kkkt                      1260\n",
       "World Bank                1086\n",
       "                          ... \n",
       "Dae Yeol And Chae Lynn       1\n",
       "Prof. Saluati                1\n",
       "Yasini Selemani              1\n",
       "Soko La Magomeni             1\n",
       "Brown                        1\n",
       "Name: funder, Length: 1586, dtype: int64"
      ]
     },
     "execution_count": 25,
     "metadata": {},
     "output_type": "execute_result"
    }
   ],
   "source": [
    "df.funder.value_counts()"
   ]
  },
  {
   "cell_type": "code",
   "execution_count": 26,
   "id": "bd900221",
   "metadata": {},
   "outputs": [
    {
     "data": {
      "text/plain": [
       "DWE                            14637\n",
       "Government                      1438\n",
       "RWE                             1031\n",
       "Commu                            893\n",
       "KKKT                             885\n",
       "                               ...  \n",
       "TWENDE PAMOJA                      1\n",
       "Simon Lusambi                      1\n",
       "RC Njoro                           1\n",
       "Rural Drinkung Water Supply        1\n",
       "Mr Luo                             1\n",
       "Name: installer, Length: 1787, dtype: int64"
      ]
     },
     "execution_count": 26,
     "metadata": {},
     "output_type": "execute_result"
    }
   ],
   "source": [
    "df.installer.value_counts()"
   ]
  },
  {
   "cell_type": "code",
   "execution_count": 27,
   "id": "82ec7ba5",
   "metadata": {},
   "outputs": [
    {
     "data": {
      "text/plain": [
       "array(['spring', 'dam', 'machine dbh', 'other', 'shallow well', 'river',\n",
       "       'hand dtw', 'rainwater harvesting', 'lake', 'unknown'],\n",
       "      dtype=object)"
      ]
     },
     "execution_count": 27,
     "metadata": {},
     "output_type": "execute_result"
    }
   ],
   "source": [
    "df['source'].unique()"
   ]
  },
  {
   "cell_type": "code",
   "execution_count": 28,
   "id": "2c1b4a11",
   "metadata": {},
   "outputs": [
    {
     "data": {
      "text/plain": [
       "array(['spring', 'dam', 'borehole', 'other', 'shallow well', 'river/lake',\n",
       "       'rainwater harvesting'], dtype=object)"
      ]
     },
     "execution_count": 28,
     "metadata": {},
     "output_type": "execute_result"
    }
   ],
   "source": [
    "df['source_type'].unique()"
   ]
  },
  {
   "cell_type": "code",
   "execution_count": 29,
   "id": "65497d42",
   "metadata": {},
   "outputs": [
    {
     "data": {
      "text/plain": [
       "source                source_type         \n",
       "spring                spring                  14852\n",
       "shallow well          shallow well            12415\n",
       "machine dbh           borehole                 8730\n",
       "river                 river/lake               8506\n",
       "rainwater harvesting  rainwater harvesting     1607\n",
       "hand dtw              borehole                  779\n",
       "lake                  river/lake                604\n",
       "dam                   dam                       581\n",
       "other                 other                     182\n",
       "unknown               other                      32\n",
       "dtype: int64"
      ]
     },
     "execution_count": 29,
     "metadata": {},
     "output_type": "execute_result"
    }
   ],
   "source": [
    "df[['source','source_type']].value_counts()"
   ]
  },
  {
   "cell_type": "markdown",
   "id": "088a90ce",
   "metadata": {},
   "source": [
    "The source and source_type columns give almost the exact same information.\n",
    "\n",
    "'Machine dbh' and 'Hand dtw' both are borehole source types.\n",
    "\n",
    "Source has a few more unique values so we will drop the source_type column."
   ]
  },
  {
   "cell_type": "code",
   "execution_count": 30,
   "id": "90162e15",
   "metadata": {},
   "outputs": [],
   "source": [
    "df.drop(axis=1,columns='source',inplace=True)"
   ]
  },
  {
   "cell_type": "code",
   "execution_count": 31,
   "id": "5deb47cc",
   "metadata": {},
   "outputs": [
    {
     "data": {
      "text/plain": [
       "array(['communal standpipe', 'communal standpipe multiple', 'hand pump',\n",
       "       'other', 'improved spring', 'cattle trough', 'dam'], dtype=object)"
      ]
     },
     "execution_count": 31,
     "metadata": {},
     "output_type": "execute_result"
    }
   ],
   "source": [
    "df['waterpoint_type'].unique()"
   ]
  },
  {
   "cell_type": "code",
   "execution_count": 32,
   "id": "ff9869a3",
   "metadata": {},
   "outputs": [
    {
     "data": {
      "text/plain": [
       "array(['communal standpipe', 'hand pump', 'other', 'improved spring',\n",
       "       'cattle trough', 'dam'], dtype=object)"
      ]
     },
     "execution_count": 32,
     "metadata": {},
     "output_type": "execute_result"
    }
   ],
   "source": [
    "df['waterpoint_type_group'].unique()"
   ]
  },
  {
   "cell_type": "code",
   "execution_count": 33,
   "id": "998657cb",
   "metadata": {},
   "outputs": [
    {
     "data": {
      "text/plain": [
       "waterpoint_type_group  waterpoint_type            \n",
       "communal standpipe     communal standpipe             23837\n",
       "hand pump              hand pump                      13602\n",
       "communal standpipe     communal standpipe multiple     5459\n",
       "other                  other                           4651\n",
       "improved spring        improved spring                  651\n",
       "cattle trough          cattle trough                     82\n",
       "dam                    dam                                6\n",
       "dtype: int64"
      ]
     },
     "execution_count": 33,
     "metadata": {},
     "output_type": "execute_result"
    }
   ],
   "source": [
    "df[['waterpoint_type_group','waterpoint_type']].value_counts()"
   ]
  },
  {
   "cell_type": "markdown",
   "id": "e464ac67",
   "metadata": {},
   "source": [
    "The waterpoint_type and the water_point_type_group columns give us the same information.\n",
    "\n",
    "The waterpoint_type column has a few more unique values.\n",
    "\n",
    "We will drop the waterpoint_type_group column"
   ]
  },
  {
   "cell_type": "code",
   "execution_count": 34,
   "id": "fee201d1",
   "metadata": {},
   "outputs": [],
   "source": [
    "df.drop(axis=1,columns='waterpoint_type_group',inplace=True)"
   ]
  },
  {
   "cell_type": "code",
   "execution_count": 35,
   "id": "49c092f6",
   "metadata": {},
   "outputs": [
    {
     "data": {
      "text/plain": [
       "array(['enough', 'dry', 'seasonal', 'insufficient', 'unknown'],\n",
       "      dtype=object)"
      ]
     },
     "execution_count": 35,
     "metadata": {},
     "output_type": "execute_result"
    }
   ],
   "source": [
    "df['quantity'].unique()"
   ]
  },
  {
   "cell_type": "code",
   "execution_count": 36,
   "id": "2ce41cfa",
   "metadata": {},
   "outputs": [
    {
     "data": {
      "text/plain": [
       "array(['enough', 'dry', 'seasonal', 'insufficient', 'unknown'],\n",
       "      dtype=object)"
      ]
     },
     "execution_count": 36,
     "metadata": {},
     "output_type": "execute_result"
    }
   ],
   "source": [
    "df['quantity_group'].unique()"
   ]
  },
  {
   "cell_type": "code",
   "execution_count": 37,
   "id": "8f6c8417",
   "metadata": {},
   "outputs": [
    {
     "data": {
      "text/plain": [
       "quantity      quantity_group\n",
       "enough        enough            28355\n",
       "insufficient  insufficient      11799\n",
       "dry           dry                4945\n",
       "seasonal      seasonal           2899\n",
       "unknown       unknown             290\n",
       "dtype: int64"
      ]
     },
     "execution_count": 37,
     "metadata": {},
     "output_type": "execute_result"
    }
   ],
   "source": [
    "df[['quantity','quantity_group']].value_counts()"
   ]
  },
  {
   "cell_type": "markdown",
   "id": "61376a59",
   "metadata": {},
   "source": [
    "The two columns give you the same information. \n",
    "\n",
    "So we will drop the quantity column"
   ]
  },
  {
   "cell_type": "code",
   "execution_count": 38,
   "id": "ddc4ad98",
   "metadata": {},
   "outputs": [],
   "source": [
    "df.drop(axis=1,columns='quantity',inplace=True)"
   ]
  },
  {
   "cell_type": "markdown",
   "id": "6212013b",
   "metadata": {},
   "source": [
    "We will ordinally encode the quantity_group column.\n",
    "\n",
    "We might have to drop the unknown rows.\n",
    "\n",
    "We will have to check how many of the rows are part of the unknown category."
   ]
  },
  {
   "cell_type": "code",
   "execution_count": 39,
   "id": "604261d5",
   "metadata": {},
   "outputs": [
    {
     "data": {
      "text/plain": [
       "extraction_type            extraction_type_group  extraction_type_class\n",
       "gravity                    gravity                gravity                  23036\n",
       "nira/tanira                nira/tanira            handpump                  6260\n",
       "other                      other                  other                     4538\n",
       "submersible                submersible            submersible               3645\n",
       "swn 80                     swn 80                 handpump                  2858\n",
       "mono                       mono                   motorpump                 2382\n",
       "india mark ii              india mark ii          handpump                  2047\n",
       "afridev                    afridev                handpump                  1346\n",
       "ksb                        submersible            submersible               1330\n",
       "other - rope pump          rope pump              rope pump                  212\n",
       "other - swn 81             other handpump         handpump                   199\n",
       "windmill                   wind-powered           wind-powered               104\n",
       "cemo                       other motorpump        motorpump                   89\n",
       "india mark iii             india mark iii         handpump                    87\n",
       "other - play pump          other handpump         handpump                    76\n",
       "walimi                     other handpump         handpump                    46\n",
       "climax                     other motorpump        motorpump                   32\n",
       "other - mkulima/shinyanga  other handpump         handpump                     1\n",
       "dtype: int64"
      ]
     },
     "execution_count": 39,
     "metadata": {},
     "output_type": "execute_result"
    }
   ],
   "source": [
    "df[['extraction_type','extraction_type_group','extraction_type_class']].value_counts()"
   ]
  },
  {
   "cell_type": "markdown",
   "id": "2b80e53e",
   "metadata": {},
   "source": [
    "I will keep the extraction_type and extraction_type_class columns. \n",
    "\n",
    "We will get all the information from these two columns.\n",
    "\n",
    "They do not have an order so we will use OneHotEncoding"
   ]
  },
  {
   "cell_type": "code",
   "execution_count": 40,
   "id": "42282808",
   "metadata": {},
   "outputs": [],
   "source": [
    "df.drop(axis=1,columns='extraction_type_group',inplace=True)"
   ]
  },
  {
   "cell_type": "code",
   "execution_count": 41,
   "id": "c882ba76",
   "metadata": {},
   "outputs": [
    {
     "data": {
      "text/plain": [
       "array(['vwc', 'private operator', 'wug', 'water board', 'wua', 'company',\n",
       "       'other', 'water authority', 'parastatal', 'other - school',\n",
       "       'unknown', 'trust'], dtype=object)"
      ]
     },
     "execution_count": 41,
     "metadata": {},
     "output_type": "execute_result"
    }
   ],
   "source": [
    "df['management'].unique()"
   ]
  },
  {
   "cell_type": "code",
   "execution_count": 42,
   "id": "8c4ef410",
   "metadata": {},
   "outputs": [
    {
     "data": {
      "text/plain": [
       "array(['user-group', 'commercial', 'other', 'parastatal', 'unknown'],\n",
       "      dtype=object)"
      ]
     },
     "execution_count": 42,
     "metadata": {},
     "output_type": "execute_result"
    }
   ],
   "source": [
    "df['management_group'].unique()"
   ]
  },
  {
   "cell_type": "code",
   "execution_count": 43,
   "id": "02c69a66",
   "metadata": {},
   "outputs": [
    {
     "data": {
      "text/plain": [
       "management        management_group\n",
       "vwc               user-group          33577\n",
       "wug               user-group           4807\n",
       "water board       user-group           2665\n",
       "wua               user-group           2288\n",
       "private operator  commercial           1479\n",
       "parastatal        parastatal           1331\n",
       "water authority   commercial            790\n",
       "company           commercial            654\n",
       "other             other                 449\n",
       "other - school    other                  99\n",
       "trust             commercial             75\n",
       "unknown           unknown                74\n",
       "dtype: int64"
      ]
     },
     "execution_count": 43,
     "metadata": {},
     "output_type": "execute_result"
    }
   ],
   "source": [
    "df[['management','management_group']].value_counts()"
   ]
  },
  {
   "cell_type": "markdown",
   "id": "ed3661ee",
   "metadata": {},
   "source": [
    "Management and management_group columns are giving us different information.\n",
    "\n",
    "The management_group column seems to tell us the category that the entry in management is in.\n",
    "\n",
    "I will keep both the columns."
   ]
  },
  {
   "cell_type": "code",
   "execution_count": 44,
   "id": "f7a29460",
   "metadata": {},
   "outputs": [
    {
     "data": {
      "text/plain": [
       "array(['pay annually', 'pay per bucket', 'never pay',\n",
       "       'pay when scheme fails', 'other', 'pay monthly', 'unknown'],\n",
       "      dtype=object)"
      ]
     },
     "execution_count": 44,
     "metadata": {},
     "output_type": "execute_result"
    }
   ],
   "source": [
    "df['payment'].unique()"
   ]
  },
  {
   "cell_type": "code",
   "execution_count": 45,
   "id": "74ecb292",
   "metadata": {},
   "outputs": [
    {
     "data": {
      "text/plain": [
       "array(['annually', 'per bucket', 'never pay', 'on failure', 'other',\n",
       "       'monthly', 'unknown'], dtype=object)"
      ]
     },
     "execution_count": 45,
     "metadata": {},
     "output_type": "execute_result"
    }
   ],
   "source": [
    "df['payment_type'].unique()"
   ]
  },
  {
   "cell_type": "code",
   "execution_count": 46,
   "id": "9adf4622",
   "metadata": {},
   "outputs": [
    {
     "data": {
      "text/plain": [
       "array(['soft', 'salty', 'unknown', 'milky', 'fluoride', 'coloured',\n",
       "       'salty abandoned', 'fluoride abandoned'], dtype=object)"
      ]
     },
     "execution_count": 46,
     "metadata": {},
     "output_type": "execute_result"
    }
   ],
   "source": [
    "df['water_quality'].unique()"
   ]
  },
  {
   "cell_type": "code",
   "execution_count": 47,
   "id": "326cc367",
   "metadata": {},
   "outputs": [
    {
     "data": {
      "text/plain": [
       "array(['good', 'salty', 'unknown', 'milky', 'fluoride', 'colored'],\n",
       "      dtype=object)"
      ]
     },
     "execution_count": 47,
     "metadata": {},
     "output_type": "execute_result"
    }
   ],
   "source": [
    "df['quality_group'].unique()"
   ]
  },
  {
   "cell_type": "code",
   "execution_count": 48,
   "id": "2e6c8535",
   "metadata": {},
   "outputs": [
    {
     "data": {
      "text/plain": [
       "water_quality       quality_group\n",
       "soft                good             42667\n",
       "salty               salty             3718\n",
       "unknown             unknown            880\n",
       "coloured            colored            320\n",
       "milky               milky              299\n",
       "salty abandoned     salty              231\n",
       "fluoride            fluoride           160\n",
       "fluoride abandoned  fluoride            13\n",
       "dtype: int64"
      ]
     },
     "execution_count": 48,
     "metadata": {},
     "output_type": "execute_result"
    }
   ],
   "source": [
    "df[['water_quality','quality_group']].value_counts()"
   ]
  },
  {
   "cell_type": "markdown",
   "id": "ac867550",
   "metadata": {},
   "source": [
    "The water_quality and quality group are lamost giving the exact same information.\n",
    "\n",
    "I am going to drop the water_quality column"
   ]
  },
  {
   "cell_type": "code",
   "execution_count": 49,
   "id": "9e386a48",
   "metadata": {},
   "outputs": [],
   "source": [
    "df.drop(axis=1,inplace=True,columns='water_quality')"
   ]
  },
  {
   "cell_type": "code",
   "execution_count": 50,
   "id": "e8f6ca7e",
   "metadata": {},
   "outputs": [
    {
     "data": {
      "text/plain": [
       "array(['vwc', 'private operator', 'wug', 'water board', 'wua', 'company',\n",
       "       'other', 'water authority', 'parastatal', 'other - school',\n",
       "       'unknown', 'trust'], dtype=object)"
      ]
     },
     "execution_count": 50,
     "metadata": {},
     "output_type": "execute_result"
    }
   ],
   "source": [
    "df['management'].unique()"
   ]
  },
  {
   "cell_type": "code",
   "execution_count": 51,
   "id": "95a8859c",
   "metadata": {},
   "outputs": [
    {
     "data": {
      "text/plain": [
       "array(['user-group', 'commercial', 'other', 'parastatal', 'unknown'],\n",
       "      dtype=object)"
      ]
     },
     "execution_count": 51,
     "metadata": {},
     "output_type": "execute_result"
    }
   ],
   "source": [
    "df['management_group'].unique()"
   ]
  },
  {
   "cell_type": "code",
   "execution_count": 52,
   "id": "b211b508",
   "metadata": {},
   "outputs": [
    {
     "data": {
      "text/plain": [
       "array([True, False], dtype=object)"
      ]
     },
     "execution_count": 52,
     "metadata": {},
     "output_type": "execute_result"
    }
   ],
   "source": [
    "df['public_meeting'].unique()"
   ]
  },
  {
   "cell_type": "code",
   "execution_count": 53,
   "id": "46ad0ac0",
   "metadata": {},
   "outputs": [
    {
     "data": {
      "text/html": [
       "<div>\n",
       "<style scoped>\n",
       "    .dataframe tbody tr th:only-of-type {\n",
       "        vertical-align: middle;\n",
       "    }\n",
       "\n",
       "    .dataframe tbody tr th {\n",
       "        vertical-align: top;\n",
       "    }\n",
       "\n",
       "    .dataframe thead th {\n",
       "        text-align: right;\n",
       "    }\n",
       "</style>\n",
       "<table border=\"1\" class=\"dataframe\">\n",
       "  <thead>\n",
       "    <tr style=\"text-align: right;\">\n",
       "      <th></th>\n",
       "      <th>id</th>\n",
       "      <th>amount_tsh</th>\n",
       "      <th>funder</th>\n",
       "      <th>gps_height</th>\n",
       "      <th>installer</th>\n",
       "      <th>longitude</th>\n",
       "      <th>latitude</th>\n",
       "      <th>wpt_name</th>\n",
       "      <th>num_private</th>\n",
       "      <th>basin</th>\n",
       "      <th>...</th>\n",
       "      <th>management_group</th>\n",
       "      <th>payment</th>\n",
       "      <th>payment_type</th>\n",
       "      <th>quality_group</th>\n",
       "      <th>quantity_group</th>\n",
       "      <th>source_type</th>\n",
       "      <th>source_class</th>\n",
       "      <th>waterpoint_type</th>\n",
       "      <th>status_group</th>\n",
       "      <th>Year_Recorded</th>\n",
       "    </tr>\n",
       "  </thead>\n",
       "  <tbody>\n",
       "    <tr>\n",
       "      <th>0</th>\n",
       "      <td>69572</td>\n",
       "      <td>6000.0</td>\n",
       "      <td>Roman</td>\n",
       "      <td>1390</td>\n",
       "      <td>Roman</td>\n",
       "      <td>34.938093</td>\n",
       "      <td>-9.856322</td>\n",
       "      <td>none</td>\n",
       "      <td>0</td>\n",
       "      <td>Lake Nyasa</td>\n",
       "      <td>...</td>\n",
       "      <td>user-group</td>\n",
       "      <td>pay annually</td>\n",
       "      <td>annually</td>\n",
       "      <td>good</td>\n",
       "      <td>enough</td>\n",
       "      <td>spring</td>\n",
       "      <td>groundwater</td>\n",
       "      <td>communal standpipe</td>\n",
       "      <td>functional</td>\n",
       "      <td>2011</td>\n",
       "    </tr>\n",
       "    <tr>\n",
       "      <th>2</th>\n",
       "      <td>34310</td>\n",
       "      <td>25.0</td>\n",
       "      <td>Lottery Club</td>\n",
       "      <td>686</td>\n",
       "      <td>World vision</td>\n",
       "      <td>37.460664</td>\n",
       "      <td>-3.821329</td>\n",
       "      <td>Kwa Mahundi</td>\n",
       "      <td>0</td>\n",
       "      <td>Pangani</td>\n",
       "      <td>...</td>\n",
       "      <td>user-group</td>\n",
       "      <td>pay per bucket</td>\n",
       "      <td>per bucket</td>\n",
       "      <td>good</td>\n",
       "      <td>enough</td>\n",
       "      <td>dam</td>\n",
       "      <td>surface</td>\n",
       "      <td>communal standpipe multiple</td>\n",
       "      <td>functional</td>\n",
       "      <td>2013</td>\n",
       "    </tr>\n",
       "    <tr>\n",
       "      <th>3</th>\n",
       "      <td>67743</td>\n",
       "      <td>0.0</td>\n",
       "      <td>Unicef</td>\n",
       "      <td>263</td>\n",
       "      <td>UNICEF</td>\n",
       "      <td>38.486161</td>\n",
       "      <td>-11.155298</td>\n",
       "      <td>Zahanati Ya Nanyumbu</td>\n",
       "      <td>0</td>\n",
       "      <td>Ruvuma / Southern Coast</td>\n",
       "      <td>...</td>\n",
       "      <td>user-group</td>\n",
       "      <td>never pay</td>\n",
       "      <td>never pay</td>\n",
       "      <td>good</td>\n",
       "      <td>dry</td>\n",
       "      <td>borehole</td>\n",
       "      <td>groundwater</td>\n",
       "      <td>communal standpipe multiple</td>\n",
       "      <td>non functional</td>\n",
       "      <td>2013</td>\n",
       "    </tr>\n",
       "    <tr>\n",
       "      <th>5</th>\n",
       "      <td>9944</td>\n",
       "      <td>20.0</td>\n",
       "      <td>Mkinga Distric Coun</td>\n",
       "      <td>0</td>\n",
       "      <td>DWE</td>\n",
       "      <td>39.172796</td>\n",
       "      <td>-4.765587</td>\n",
       "      <td>Tajiri</td>\n",
       "      <td>0</td>\n",
       "      <td>Pangani</td>\n",
       "      <td>...</td>\n",
       "      <td>user-group</td>\n",
       "      <td>pay per bucket</td>\n",
       "      <td>per bucket</td>\n",
       "      <td>salty</td>\n",
       "      <td>enough</td>\n",
       "      <td>other</td>\n",
       "      <td>unknown</td>\n",
       "      <td>communal standpipe multiple</td>\n",
       "      <td>functional</td>\n",
       "      <td>2011</td>\n",
       "    </tr>\n",
       "    <tr>\n",
       "      <th>6</th>\n",
       "      <td>19816</td>\n",
       "      <td>0.0</td>\n",
       "      <td>Dwsp</td>\n",
       "      <td>0</td>\n",
       "      <td>DWSP</td>\n",
       "      <td>33.362410</td>\n",
       "      <td>-3.766365</td>\n",
       "      <td>Kwa Ngomho</td>\n",
       "      <td>0</td>\n",
       "      <td>Internal</td>\n",
       "      <td>...</td>\n",
       "      <td>user-group</td>\n",
       "      <td>never pay</td>\n",
       "      <td>never pay</td>\n",
       "      <td>good</td>\n",
       "      <td>enough</td>\n",
       "      <td>borehole</td>\n",
       "      <td>groundwater</td>\n",
       "      <td>hand pump</td>\n",
       "      <td>non functional</td>\n",
       "      <td>2012</td>\n",
       "    </tr>\n",
       "  </tbody>\n",
       "</table>\n",
       "<p>5 rows × 35 columns</p>\n",
       "</div>"
      ],
      "text/plain": [
       "      id  amount_tsh               funder  gps_height     installer  \\\n",
       "0  69572      6000.0                Roman        1390         Roman   \n",
       "2  34310        25.0         Lottery Club         686  World vision   \n",
       "3  67743         0.0               Unicef         263        UNICEF   \n",
       "5   9944        20.0  Mkinga Distric Coun           0           DWE   \n",
       "6  19816         0.0                 Dwsp           0          DWSP   \n",
       "\n",
       "   longitude   latitude              wpt_name  num_private  \\\n",
       "0  34.938093  -9.856322                  none            0   \n",
       "2  37.460664  -3.821329           Kwa Mahundi            0   \n",
       "3  38.486161 -11.155298  Zahanati Ya Nanyumbu            0   \n",
       "5  39.172796  -4.765587                Tajiri            0   \n",
       "6  33.362410  -3.766365            Kwa Ngomho            0   \n",
       "\n",
       "                     basin  ... management_group         payment  \\\n",
       "0               Lake Nyasa  ...       user-group    pay annually   \n",
       "2                  Pangani  ...       user-group  pay per bucket   \n",
       "3  Ruvuma / Southern Coast  ...       user-group       never pay   \n",
       "5                  Pangani  ...       user-group  pay per bucket   \n",
       "6                 Internal  ...       user-group       never pay   \n",
       "\n",
       "   payment_type  quality_group quantity_group source_type  source_class  \\\n",
       "0      annually           good         enough      spring   groundwater   \n",
       "2    per bucket           good         enough         dam       surface   \n",
       "3     never pay           good            dry    borehole   groundwater   \n",
       "5    per bucket          salty         enough       other       unknown   \n",
       "6     never pay           good         enough    borehole   groundwater   \n",
       "\n",
       "               waterpoint_type    status_group Year_Recorded  \n",
       "0           communal standpipe      functional          2011  \n",
       "2  communal standpipe multiple      functional          2013  \n",
       "3  communal standpipe multiple  non functional          2013  \n",
       "5  communal standpipe multiple      functional          2011  \n",
       "6                    hand pump  non functional          2012  \n",
       "\n",
       "[5 rows x 35 columns]"
      ]
     },
     "execution_count": 53,
     "metadata": {},
     "output_type": "execute_result"
    }
   ],
   "source": [
    "df.head()"
   ]
  },
  {
   "cell_type": "code",
   "execution_count": 54,
   "id": "cbb0ac95",
   "metadata": {},
   "outputs": [
    {
     "data": {
      "text/plain": [
       "Index(['id', 'amount_tsh', 'funder', 'gps_height', 'installer', 'longitude',\n",
       "       'latitude', 'wpt_name', 'num_private', 'basin', 'subvillage', 'region',\n",
       "       'region_code', 'district_code', 'lga', 'ward', 'population',\n",
       "       'public_meeting', 'recorded_by', 'scheme_management', 'permit',\n",
       "       'construction_year', 'extraction_type', 'extraction_type_class',\n",
       "       'management', 'management_group', 'payment', 'payment_type',\n",
       "       'quality_group', 'quantity_group', 'source_type', 'source_class',\n",
       "       'waterpoint_type', 'status_group', 'Year_Recorded'],\n",
       "      dtype='object')"
      ]
     },
     "execution_count": 54,
     "metadata": {},
     "output_type": "execute_result"
    }
   ],
   "source": [
    "df.columns"
   ]
  },
  {
   "cell_type": "markdown",
   "id": "3ed3b315",
   "metadata": {},
   "source": [
    "I will now drop the columns that are not useful in determinining if the pump is in need of fixing.\n",
    "\n",
    "I am dropping them because they will not help the model determine the condition of the pump, they will also increase the amount of compute needed to train the model. In order to ensure the model is as accurate and simple as possible I am dropping these columns.\n",
    "\n",
    "These are columns with information about the location of the pump and funder that had the pump installed.\n",
    "\n",
    "I am dropping the following location columns since I already have the longitude and latitude columns which tell me about the location.\n",
    "\n",
    "The funder is not important since they are hiring other third parties to install the pumps, knowing who funded the installation will not help us know the quality of the installation since we don't know exactly who installed the pump.\n"
   ]
  },
  {
   "cell_type": "code",
   "execution_count": 55,
   "id": "2949ce9a",
   "metadata": {},
   "outputs": [],
   "source": [
    "#gonna drop the columns not useful for training then i will onehotencode and ordinal encode\n",
    "\n",
    "df.drop(axis=1,inplace=True, columns=['id','funder','gps_height','subvillage','region','region_code','district_code','lga','ward'\n",
    "                                      ,'recorded_by','scheme_management','wpt_name','payment','extraction_type','installer','public_meeting'\n",
    "                                      ,'management','basin'])"
   ]
  },
  {
   "cell_type": "code",
   "execution_count": 56,
   "id": "d8ad6c82",
   "metadata": {},
   "outputs": [
    {
     "data": {
      "text/plain": [
       "Index(['amount_tsh', 'longitude', 'latitude', 'num_private', 'population',\n",
       "       'permit', 'construction_year', 'extraction_type_class',\n",
       "       'management_group', 'payment_type', 'quality_group', 'quantity_group',\n",
       "       'source_type', 'source_class', 'waterpoint_type', 'status_group',\n",
       "       'Year_Recorded'],\n",
       "      dtype='object')"
      ]
     },
     "execution_count": 56,
     "metadata": {},
     "output_type": "execute_result"
    }
   ],
   "source": [
    "df.columns"
   ]
  },
  {
   "cell_type": "code",
   "execution_count": 57,
   "id": "4445deaf",
   "metadata": {},
   "outputs": [
    {
     "data": {
      "text/html": [
       "<div>\n",
       "<style scoped>\n",
       "    .dataframe tbody tr th:only-of-type {\n",
       "        vertical-align: middle;\n",
       "    }\n",
       "\n",
       "    .dataframe tbody tr th {\n",
       "        vertical-align: top;\n",
       "    }\n",
       "\n",
       "    .dataframe thead th {\n",
       "        text-align: right;\n",
       "    }\n",
       "</style>\n",
       "<table border=\"1\" class=\"dataframe\">\n",
       "  <thead>\n",
       "    <tr style=\"text-align: right;\">\n",
       "      <th></th>\n",
       "      <th>permit</th>\n",
       "      <th>extraction_type_class</th>\n",
       "      <th>management_group</th>\n",
       "      <th>payment_type</th>\n",
       "      <th>quality_group</th>\n",
       "      <th>quantity_group</th>\n",
       "      <th>source_type</th>\n",
       "      <th>source_class</th>\n",
       "      <th>waterpoint_type</th>\n",
       "      <th>status_group</th>\n",
       "    </tr>\n",
       "  </thead>\n",
       "  <tbody>\n",
       "    <tr>\n",
       "      <th>0</th>\n",
       "      <td>False</td>\n",
       "      <td>gravity</td>\n",
       "      <td>user-group</td>\n",
       "      <td>annually</td>\n",
       "      <td>good</td>\n",
       "      <td>enough</td>\n",
       "      <td>spring</td>\n",
       "      <td>groundwater</td>\n",
       "      <td>communal standpipe</td>\n",
       "      <td>functional</td>\n",
       "    </tr>\n",
       "    <tr>\n",
       "      <th>2</th>\n",
       "      <td>True</td>\n",
       "      <td>gravity</td>\n",
       "      <td>user-group</td>\n",
       "      <td>per bucket</td>\n",
       "      <td>good</td>\n",
       "      <td>enough</td>\n",
       "      <td>dam</td>\n",
       "      <td>surface</td>\n",
       "      <td>communal standpipe multiple</td>\n",
       "      <td>functional</td>\n",
       "    </tr>\n",
       "    <tr>\n",
       "      <th>3</th>\n",
       "      <td>True</td>\n",
       "      <td>submersible</td>\n",
       "      <td>user-group</td>\n",
       "      <td>never pay</td>\n",
       "      <td>good</td>\n",
       "      <td>dry</td>\n",
       "      <td>borehole</td>\n",
       "      <td>groundwater</td>\n",
       "      <td>communal standpipe multiple</td>\n",
       "      <td>non functional</td>\n",
       "    </tr>\n",
       "    <tr>\n",
       "      <th>5</th>\n",
       "      <td>True</td>\n",
       "      <td>submersible</td>\n",
       "      <td>user-group</td>\n",
       "      <td>per bucket</td>\n",
       "      <td>salty</td>\n",
       "      <td>enough</td>\n",
       "      <td>other</td>\n",
       "      <td>unknown</td>\n",
       "      <td>communal standpipe multiple</td>\n",
       "      <td>functional</td>\n",
       "    </tr>\n",
       "    <tr>\n",
       "      <th>6</th>\n",
       "      <td>True</td>\n",
       "      <td>handpump</td>\n",
       "      <td>user-group</td>\n",
       "      <td>never pay</td>\n",
       "      <td>good</td>\n",
       "      <td>enough</td>\n",
       "      <td>borehole</td>\n",
       "      <td>groundwater</td>\n",
       "      <td>hand pump</td>\n",
       "      <td>non functional</td>\n",
       "    </tr>\n",
       "  </tbody>\n",
       "</table>\n",
       "</div>"
      ],
      "text/plain": [
       "  permit extraction_type_class management_group payment_type quality_group  \\\n",
       "0  False               gravity       user-group     annually          good   \n",
       "2   True               gravity       user-group   per bucket          good   \n",
       "3   True           submersible       user-group    never pay          good   \n",
       "5   True           submersible       user-group   per bucket         salty   \n",
       "6   True              handpump       user-group    never pay          good   \n",
       "\n",
       "  quantity_group source_type source_class              waterpoint_type  \\\n",
       "0         enough      spring  groundwater           communal standpipe   \n",
       "2         enough         dam      surface  communal standpipe multiple   \n",
       "3            dry    borehole  groundwater  communal standpipe multiple   \n",
       "5         enough       other      unknown  communal standpipe multiple   \n",
       "6         enough    borehole  groundwater                    hand pump   \n",
       "\n",
       "     status_group  \n",
       "0      functional  \n",
       "2      functional  \n",
       "3  non functional  \n",
       "5      functional  \n",
       "6  non functional  "
      ]
     },
     "execution_count": 57,
     "metadata": {},
     "output_type": "execute_result"
    }
   ],
   "source": [
    "df.select_dtypes('object').head()"
   ]
  },
  {
   "cell_type": "markdown",
   "id": "fc9e8799",
   "metadata": {},
   "source": [
    "Now that I am finished dropping columns I want to ensure the data is balanced.\n",
    "\n",
    "In order to know if the data is balanced I will be looking at the number of instances of each category in the target variable.\n",
    "\n",
    "The target variable is status_group.\n",
    "\n",
    "I will do a value counts on this target variable.\n"
   ]
  },
  {
   "cell_type": "code",
   "execution_count": 58,
   "id": "118e1cc2",
   "metadata": {},
   "outputs": [
    {
     "data": {
      "text/plain": [
       "functional                 26517\n",
       "non functional             18273\n",
       "functional needs repair     3498\n",
       "Name: status_group, dtype: int64"
      ]
     },
     "execution_count": 58,
     "metadata": {},
     "output_type": "execute_result"
    }
   ],
   "source": [
    "df.status_group.value_counts()"
   ]
  },
  {
   "cell_type": "markdown",
   "id": "06280c55",
   "metadata": {},
   "source": [
    "As one can see the data is very unbalanced.\n",
    "\n",
    "The functional category has 26,517 entries.\n",
    "\n",
    "While the non-functional category has 18,273 columns.\n",
    "\n",
    "Lastly, the functional-needs-repair category has 3498 entries.\n",
    "\n",
    "I will use random undersampling on the functional and non-functional entries to make sure they have 15,000 entries.\n",
    "\n",
    "I am undersampling so that the majority classes are closer to the minority class. I will use SMOTE on X_train so that the minority class can match the two majority classes during the training. That will be later after the data is split."
   ]
  },
  {
   "cell_type": "code",
   "execution_count": 59,
   "id": "5539cb21",
   "metadata": {},
   "outputs": [],
   "source": [
    "#creating seperate dataframes that only have 1 one each category\n",
    "df_functional = df[df['status_group'] == 'functional']\n",
    "df_non_functional = df[df['status_group'] == 'non functional']\n",
    "df_functional_needs_repair = df[df['status_group'] == 'functional needs repair']\n",
    "\n",
    "#picking 15,000 random samples from the two majority classes\n",
    "functional_samples = df_functional.sample(n=15000,random_state=42)\n",
    "non_functional_samples = df_non_functional.sample(n=15000,random_state=42)\n",
    "\n"
   ]
  },
  {
   "cell_type": "code",
   "execution_count": 60,
   "id": "f06e5fba",
   "metadata": {},
   "outputs": [
    {
     "data": {
      "text/html": [
       "<div>\n",
       "<style scoped>\n",
       "    .dataframe tbody tr th:only-of-type {\n",
       "        vertical-align: middle;\n",
       "    }\n",
       "\n",
       "    .dataframe tbody tr th {\n",
       "        vertical-align: top;\n",
       "    }\n",
       "\n",
       "    .dataframe thead th {\n",
       "        text-align: right;\n",
       "    }\n",
       "</style>\n",
       "<table border=\"1\" class=\"dataframe\">\n",
       "  <thead>\n",
       "    <tr style=\"text-align: right;\">\n",
       "      <th></th>\n",
       "      <th>amount_tsh</th>\n",
       "      <th>longitude</th>\n",
       "      <th>latitude</th>\n",
       "      <th>num_private</th>\n",
       "      <th>population</th>\n",
       "      <th>permit</th>\n",
       "      <th>construction_year</th>\n",
       "      <th>extraction_type_class</th>\n",
       "      <th>management_group</th>\n",
       "      <th>payment_type</th>\n",
       "      <th>quality_group</th>\n",
       "      <th>quantity_group</th>\n",
       "      <th>source_type</th>\n",
       "      <th>source_class</th>\n",
       "      <th>waterpoint_type</th>\n",
       "      <th>status_group</th>\n",
       "      <th>Year_Recorded</th>\n",
       "    </tr>\n",
       "  </thead>\n",
       "  <tbody>\n",
       "    <tr>\n",
       "      <th>59233</th>\n",
       "      <td>0.0</td>\n",
       "      <td>33.613730</td>\n",
       "      <td>-4.259876e+00</td>\n",
       "      <td>0</td>\n",
       "      <td>0</td>\n",
       "      <td>False</td>\n",
       "      <td>0</td>\n",
       "      <td>other</td>\n",
       "      <td>user-group</td>\n",
       "      <td>never pay</td>\n",
       "      <td>unknown</td>\n",
       "      <td>unknown</td>\n",
       "      <td>rainwater harvesting</td>\n",
       "      <td>surface</td>\n",
       "      <td>communal standpipe</td>\n",
       "      <td>functional</td>\n",
       "      <td>2012</td>\n",
       "    </tr>\n",
       "    <tr>\n",
       "      <th>57858</th>\n",
       "      <td>0.0</td>\n",
       "      <td>36.928466</td>\n",
       "      <td>-3.342058e+00</td>\n",
       "      <td>0</td>\n",
       "      <td>130</td>\n",
       "      <td>True</td>\n",
       "      <td>2003</td>\n",
       "      <td>gravity</td>\n",
       "      <td>user-group</td>\n",
       "      <td>unknown</td>\n",
       "      <td>good</td>\n",
       "      <td>insufficient</td>\n",
       "      <td>river/lake</td>\n",
       "      <td>surface</td>\n",
       "      <td>communal standpipe</td>\n",
       "      <td>functional</td>\n",
       "      <td>2013</td>\n",
       "    </tr>\n",
       "    <tr>\n",
       "      <th>57685</th>\n",
       "      <td>5000.0</td>\n",
       "      <td>38.865788</td>\n",
       "      <td>-6.829784e+00</td>\n",
       "      <td>102</td>\n",
       "      <td>20</td>\n",
       "      <td>True</td>\n",
       "      <td>2010</td>\n",
       "      <td>motorpump</td>\n",
       "      <td>commercial</td>\n",
       "      <td>monthly</td>\n",
       "      <td>good</td>\n",
       "      <td>insufficient</td>\n",
       "      <td>river/lake</td>\n",
       "      <td>surface</td>\n",
       "      <td>communal standpipe</td>\n",
       "      <td>functional</td>\n",
       "      <td>2011</td>\n",
       "    </tr>\n",
       "    <tr>\n",
       "      <th>2932</th>\n",
       "      <td>0.0</td>\n",
       "      <td>0.000000</td>\n",
       "      <td>-2.000000e-08</td>\n",
       "      <td>0</td>\n",
       "      <td>0</td>\n",
       "      <td>True</td>\n",
       "      <td>0</td>\n",
       "      <td>handpump</td>\n",
       "      <td>user-group</td>\n",
       "      <td>per bucket</td>\n",
       "      <td>good</td>\n",
       "      <td>insufficient</td>\n",
       "      <td>shallow well</td>\n",
       "      <td>groundwater</td>\n",
       "      <td>hand pump</td>\n",
       "      <td>functional</td>\n",
       "      <td>2011</td>\n",
       "    </tr>\n",
       "    <tr>\n",
       "      <th>40406</th>\n",
       "      <td>2000.0</td>\n",
       "      <td>34.777955</td>\n",
       "      <td>-4.357275e+00</td>\n",
       "      <td>0</td>\n",
       "      <td>140</td>\n",
       "      <td>True</td>\n",
       "      <td>1997</td>\n",
       "      <td>handpump</td>\n",
       "      <td>user-group</td>\n",
       "      <td>on failure</td>\n",
       "      <td>good</td>\n",
       "      <td>enough</td>\n",
       "      <td>shallow well</td>\n",
       "      <td>groundwater</td>\n",
       "      <td>hand pump</td>\n",
       "      <td>functional</td>\n",
       "      <td>2013</td>\n",
       "    </tr>\n",
       "  </tbody>\n",
       "</table>\n",
       "</div>"
      ],
      "text/plain": [
       "       amount_tsh  longitude      latitude  num_private  population permit  \\\n",
       "59233         0.0  33.613730 -4.259876e+00            0           0  False   \n",
       "57858         0.0  36.928466 -3.342058e+00            0         130   True   \n",
       "57685      5000.0  38.865788 -6.829784e+00          102          20   True   \n",
       "2932          0.0   0.000000 -2.000000e-08            0           0   True   \n",
       "40406      2000.0  34.777955 -4.357275e+00            0         140   True   \n",
       "\n",
       "       construction_year extraction_type_class management_group payment_type  \\\n",
       "59233                  0                 other       user-group    never pay   \n",
       "57858               2003               gravity       user-group      unknown   \n",
       "57685               2010             motorpump       commercial      monthly   \n",
       "2932                   0              handpump       user-group   per bucket   \n",
       "40406               1997              handpump       user-group   on failure   \n",
       "\n",
       "      quality_group quantity_group           source_type source_class  \\\n",
       "59233       unknown        unknown  rainwater harvesting      surface   \n",
       "57858          good   insufficient            river/lake      surface   \n",
       "57685          good   insufficient            river/lake      surface   \n",
       "2932           good   insufficient          shallow well  groundwater   \n",
       "40406          good         enough          shallow well  groundwater   \n",
       "\n",
       "          waterpoint_type status_group  Year_Recorded  \n",
       "59233  communal standpipe   functional           2012  \n",
       "57858  communal standpipe   functional           2013  \n",
       "57685  communal standpipe   functional           2011  \n",
       "2932            hand pump   functional           2011  \n",
       "40406           hand pump   functional           2013  "
      ]
     },
     "execution_count": 60,
     "metadata": {},
     "output_type": "execute_result"
    }
   ],
   "source": [
    "#combining the undersampled functional and non-functional categories\n",
    "df_undersampled = pd.concat([functional_samples,non_functional_samples])\n",
    "\n",
    "#combining the df_undersampled with the functional-needs-repair category\n",
    "#we are not undersampling functional-needs-repair category because it is still the minority sample\n",
    "final_df_undersampled = pd.concat([df_undersampled,df_functional_needs_repair])\n",
    "final_df_undersampled.head()"
   ]
  },
  {
   "cell_type": "code",
   "execution_count": 61,
   "id": "964ff787",
   "metadata": {},
   "outputs": [
    {
     "data": {
      "text/plain": [
       "functional                 15000\n",
       "non functional             15000\n",
       "functional needs repair     3498\n",
       "Name: status_group, dtype: int64"
      ]
     },
     "execution_count": 61,
     "metadata": {},
     "output_type": "execute_result"
    }
   ],
   "source": [
    "#checking we have 15,000 counts of the majority classes\n",
    "final_df_undersampled.status_group.value_counts()"
   ]
  },
  {
   "cell_type": "markdown",
   "id": "9aa221cb",
   "metadata": {},
   "source": [
    "I am going to be using OneHotEncoding to encode categorical columns that have no order to them.\n",
    "\n",
    "OneHotEncoding will turn the string data into a numerical format the model will be able to use for training.\n",
    "\n",
    "These columns are:\n",
    "\n",
    "basin,permit,extraction_type_class,management_group,payment_type,source_type,source_class,waterpoint_type"
   ]
  },
  {
   "cell_type": "code",
   "execution_count": 62,
   "id": "805537d6",
   "metadata": {},
   "outputs": [],
   "source": [
    "# list = []\n",
    "# for id,name in enumerate(X_train.columns.tolist()):\n",
    "#     if name not in num_cols:\n",
    "#         list.append((id,name))\n",
    "# # print(list)\n",
    "# print(list)\n",
    "\n",
    "# categorical_id = []\n",
    "# for i in list:\n",
    "#     categorical_id.append(i[0])\n",
    "\n",
    "# print(categorical_id)"
   ]
  },
  {
   "cell_type": "markdown",
   "id": "4621351e",
   "metadata": {},
   "source": [
    "I will now use SMOTE to create synthetic data of the minority category.\n",
    "\n",
    "The process for SMOTE will go as such:\n",
    "\n",
    "1. Split the data using train_test_split ensure stratify=y argument to maintain the original split of the data.\n",
    "\n",
    "2. Use Counter(y_train) to find out the split of the data.\n",
    "\n",
    "3. Create two lists one for the categorical features and one for the numerical features.\n",
    "\n",
    "4. Create a copy of X_train and X_test\n",
    "\n",
    "5. Do ordinal encoding on the copies.\n",
    "\n",
    "6. Call an instance of SMOTENC.\n",
    "\n",
    "7. Fit_resample on X_train_ord,y_train\n",
    "\n",
    "8. Perform OneHotEncoding on the resampled dataframe. (remember the output will be a numpy array)\n",
    "\n",
    "9. Extract the numerical features from the resampled dataframe.\n",
    "\n",
    "10. Recreate the X_train and X_test dataframes\n",
    "\n",
    "11. Perform Label Encoding on y_train and y_test"
   ]
  },
  {
   "cell_type": "markdown",
   "id": "ac293134",
   "metadata": {},
   "source": [
    "I can see that category 1 is under represented in the y_train data.\n",
    "\n",
    "I will use SMOTENC to generate synthetic entries of category 1 to make sure that it has 12,000 entries so the dataset is  balanced."
   ]
  },
  {
   "cell_type": "code",
   "execution_count": 64,
   "id": "abb10ac8",
   "metadata": {},
   "outputs": [
    {
     "name": "stdout",
     "output_type": "stream",
     "text": [
      "\n",
      "Training set class distribution:\n",
      "Counter({'non functional': 12000, 'functional': 12000, 'functional needs repair': 2798})\n"
     ]
    }
   ],
   "source": [
    "# 1. FIRST: Split Data into Train/Test Sets\n",
    "# =====================================================================\n",
    "X = final_df_undersampled.drop('status_group', axis=1)\n",
    "y = final_df_undersampled['status_group']\n",
    "\n",
    "# Stratify to preserve imbalance ratio in splits\n",
    "X_train, X_test, y_train, y_test = train_test_split(\n",
    "    X, y, \n",
    "    test_size=0.2, \n",
    "    stratify=y,\n",
    "    random_state=42\n",
    ")\n",
    "\n",
    "print(\"\\nTraining set class distribution:\")\n",
    "print(Counter(y_train))  # e.g., A:560, B:160, C:80"
   ]
  },
  {
   "cell_type": "code",
   "execution_count": 66,
   "id": "4879e7b8",
   "metadata": {},
   "outputs": [
    {
     "data": {
      "text/html": [
       "<div>\n",
       "<style scoped>\n",
       "    .dataframe tbody tr th:only-of-type {\n",
       "        vertical-align: middle;\n",
       "    }\n",
       "\n",
       "    .dataframe tbody tr th {\n",
       "        vertical-align: top;\n",
       "    }\n",
       "\n",
       "    .dataframe thead th {\n",
       "        text-align: right;\n",
       "    }\n",
       "</style>\n",
       "<table border=\"1\" class=\"dataframe\">\n",
       "  <thead>\n",
       "    <tr style=\"text-align: right;\">\n",
       "      <th></th>\n",
       "      <th>amount_tsh</th>\n",
       "      <th>longitude</th>\n",
       "      <th>latitude</th>\n",
       "      <th>num_private</th>\n",
       "      <th>population</th>\n",
       "      <th>permit</th>\n",
       "      <th>construction_year</th>\n",
       "      <th>extraction_type_class</th>\n",
       "      <th>management_group</th>\n",
       "      <th>payment_type</th>\n",
       "      <th>quality_group</th>\n",
       "      <th>quantity_group</th>\n",
       "      <th>source_type</th>\n",
       "      <th>source_class</th>\n",
       "      <th>waterpoint_type</th>\n",
       "      <th>status_group</th>\n",
       "      <th>Year_Recorded</th>\n",
       "    </tr>\n",
       "  </thead>\n",
       "  <tbody>\n",
       "    <tr>\n",
       "      <th>59233</th>\n",
       "      <td>0.0</td>\n",
       "      <td>33.613730</td>\n",
       "      <td>-4.259876e+00</td>\n",
       "      <td>0</td>\n",
       "      <td>0</td>\n",
       "      <td>False</td>\n",
       "      <td>0</td>\n",
       "      <td>other</td>\n",
       "      <td>user-group</td>\n",
       "      <td>never pay</td>\n",
       "      <td>unknown</td>\n",
       "      <td>unknown</td>\n",
       "      <td>rainwater harvesting</td>\n",
       "      <td>surface</td>\n",
       "      <td>communal standpipe</td>\n",
       "      <td>functional</td>\n",
       "      <td>2012</td>\n",
       "    </tr>\n",
       "    <tr>\n",
       "      <th>57858</th>\n",
       "      <td>0.0</td>\n",
       "      <td>36.928466</td>\n",
       "      <td>-3.342058e+00</td>\n",
       "      <td>0</td>\n",
       "      <td>130</td>\n",
       "      <td>True</td>\n",
       "      <td>2003</td>\n",
       "      <td>gravity</td>\n",
       "      <td>user-group</td>\n",
       "      <td>unknown</td>\n",
       "      <td>good</td>\n",
       "      <td>insufficient</td>\n",
       "      <td>river/lake</td>\n",
       "      <td>surface</td>\n",
       "      <td>communal standpipe</td>\n",
       "      <td>functional</td>\n",
       "      <td>2013</td>\n",
       "    </tr>\n",
       "    <tr>\n",
       "      <th>57685</th>\n",
       "      <td>5000.0</td>\n",
       "      <td>38.865788</td>\n",
       "      <td>-6.829784e+00</td>\n",
       "      <td>102</td>\n",
       "      <td>20</td>\n",
       "      <td>True</td>\n",
       "      <td>2010</td>\n",
       "      <td>motorpump</td>\n",
       "      <td>commercial</td>\n",
       "      <td>monthly</td>\n",
       "      <td>good</td>\n",
       "      <td>insufficient</td>\n",
       "      <td>river/lake</td>\n",
       "      <td>surface</td>\n",
       "      <td>communal standpipe</td>\n",
       "      <td>functional</td>\n",
       "      <td>2011</td>\n",
       "    </tr>\n",
       "    <tr>\n",
       "      <th>2932</th>\n",
       "      <td>0.0</td>\n",
       "      <td>0.000000</td>\n",
       "      <td>-2.000000e-08</td>\n",
       "      <td>0</td>\n",
       "      <td>0</td>\n",
       "      <td>True</td>\n",
       "      <td>0</td>\n",
       "      <td>handpump</td>\n",
       "      <td>user-group</td>\n",
       "      <td>per bucket</td>\n",
       "      <td>good</td>\n",
       "      <td>insufficient</td>\n",
       "      <td>shallow well</td>\n",
       "      <td>groundwater</td>\n",
       "      <td>hand pump</td>\n",
       "      <td>functional</td>\n",
       "      <td>2011</td>\n",
       "    </tr>\n",
       "    <tr>\n",
       "      <th>40406</th>\n",
       "      <td>2000.0</td>\n",
       "      <td>34.777955</td>\n",
       "      <td>-4.357275e+00</td>\n",
       "      <td>0</td>\n",
       "      <td>140</td>\n",
       "      <td>True</td>\n",
       "      <td>1997</td>\n",
       "      <td>handpump</td>\n",
       "      <td>user-group</td>\n",
       "      <td>on failure</td>\n",
       "      <td>good</td>\n",
       "      <td>enough</td>\n",
       "      <td>shallow well</td>\n",
       "      <td>groundwater</td>\n",
       "      <td>hand pump</td>\n",
       "      <td>functional</td>\n",
       "      <td>2013</td>\n",
       "    </tr>\n",
       "  </tbody>\n",
       "</table>\n",
       "</div>"
      ],
      "text/plain": [
       "       amount_tsh  longitude      latitude  num_private  population permit  \\\n",
       "59233         0.0  33.613730 -4.259876e+00            0           0  False   \n",
       "57858         0.0  36.928466 -3.342058e+00            0         130   True   \n",
       "57685      5000.0  38.865788 -6.829784e+00          102          20   True   \n",
       "2932          0.0   0.000000 -2.000000e-08            0           0   True   \n",
       "40406      2000.0  34.777955 -4.357275e+00            0         140   True   \n",
       "\n",
       "       construction_year extraction_type_class management_group payment_type  \\\n",
       "59233                  0                 other       user-group    never pay   \n",
       "57858               2003               gravity       user-group      unknown   \n",
       "57685               2010             motorpump       commercial      monthly   \n",
       "2932                   0              handpump       user-group   per bucket   \n",
       "40406               1997              handpump       user-group   on failure   \n",
       "\n",
       "      quality_group quantity_group           source_type source_class  \\\n",
       "59233       unknown        unknown  rainwater harvesting      surface   \n",
       "57858          good   insufficient            river/lake      surface   \n",
       "57685          good   insufficient            river/lake      surface   \n",
       "2932           good   insufficient          shallow well  groundwater   \n",
       "40406          good         enough          shallow well  groundwater   \n",
       "\n",
       "          waterpoint_type status_group  Year_Recorded  \n",
       "59233  communal standpipe   functional           2012  \n",
       "57858  communal standpipe   functional           2013  \n",
       "57685  communal standpipe   functional           2011  \n",
       "2932            hand pump   functional           2011  \n",
       "40406           hand pump   functional           2013  "
      ]
     },
     "execution_count": 66,
     "metadata": {},
     "output_type": "execute_result"
    }
   ],
   "source": [
    "final_df_undersampled.head()"
   ]
  },
  {
   "cell_type": "markdown",
   "id": "eca41aee",
   "metadata": {},
   "source": [
    "We will need to make sure the 'functional needs repair' category reaches 12,000 entries using smote"
   ]
  },
  {
   "cell_type": "code",
   "execution_count": 65,
   "id": "85e8e495",
   "metadata": {},
   "outputs": [
    {
     "data": {
      "text/plain": [
       "Index(['amount_tsh', 'longitude', 'latitude', 'num_private', 'population',\n",
       "       'permit', 'construction_year', 'extraction_type_class',\n",
       "       'management_group', 'payment_type', 'quality_group', 'quantity_group',\n",
       "       'source_type', 'source_class', 'waterpoint_type', 'status_group',\n",
       "       'Year_Recorded'],\n",
       "      dtype='object')"
      ]
     },
     "execution_count": 65,
     "metadata": {},
     "output_type": "execute_result"
    }
   ],
   "source": [
    "final_df_undersampled.columns"
   ]
  },
  {
   "cell_type": "code",
   "execution_count": 68,
   "id": "22e4538a",
   "metadata": {},
   "outputs": [],
   "source": [
    "# 2. Preprocess Categorical Features with ORDINAL ENCODING (For SMOTENC compatibility)\n",
    "# Identify categorical columns\n",
    "cat_cols = ['permit','extraction_type_class','management_group', 'payment_type', 'quality_group', 'quantity_group',\n",
    "            'source_type', 'source_class', 'waterpoint_type']\n",
    "\n",
    "#Identify numerical columns\n",
    "num_cols = ['amount_tsh', 'longitude', 'latitude', 'num_private', 'population','construction_year','Year_Recorded']\n",
    "\n",
    "# Initialize and fit ordinal encoder on TRAINING DATA ONLY\n",
    "ordinal_encoder = OrdinalEncoder(handle_unknown='use_encoded_value', unknown_value=-1)\n",
    "X_train_ord = X_train.copy()\n",
    "X_train_ord[cat_cols] = ordinal_encoder.fit_transform(X_train[cat_cols])\n",
    "\n",
    "# Apply to test data using same encoder\n",
    "X_test_ord = X_test.copy()\n",
    "X_test_ord[cat_cols] = ordinal_encoder.transform(X_test[cat_cols])"
   ]
  },
  {
   "cell_type": "code",
   "execution_count": 69,
   "id": "43f32206",
   "metadata": {},
   "outputs": [
    {
     "name": "stderr",
     "output_type": "stream",
     "text": [
      "c:\\Users\\franc\\anaconda3\\envs\\learn-env\\lib\\site-packages\\sklearn\\preprocessing\\_encoders.py:975: FutureWarning: `sparse` was renamed to `sparse_output` in version 1.2 and will be removed in 1.4. `sparse_output` is ignored unless you leave `sparse` to its default value.\n",
      "  warnings.warn(\n"
     ]
    },
    {
     "name": "stdout",
     "output_type": "stream",
     "text": [
      "\n",
      "After SMOTENC resampling:\n",
      "Counter({'non functional': 12000, 'functional needs repair': 12000, 'functional': 12000})\n"
     ]
    }
   ],
   "source": [
    "# 3. Apply SMOTENC to Training Data\n",
    "# Get categorical feature indices (positions after encoding)\n",
    "cat_idx = [X_train_ord.columns.get_loc(col) for col in cat_cols]\n",
    "\n",
    "# Define resampling strategy\n",
    "sampling_strategy = {'functional needs repair': 12000}  # Upsample to match majority\n",
    "\n",
    "sm = SMOTENC(\n",
    "    categorical_features=cat_idx,\n",
    "    sampling_strategy=sampling_strategy,\n",
    "    k_neighbors=5,\n",
    "    random_state=42\n",
    ")\n",
    "\n",
    "# Apply SMOTENC to ordinal-encoded training data\n",
    "X_train_res, y_train_res = sm.fit_resample(X_train_ord, y_train)\n",
    "\n",
    "print(\"\\nAfter SMOTENC resampling:\")\n",
    "print(Counter(y_train_res))  # A:12000, B:12000, C:12000"
   ]
  },
  {
   "cell_type": "code",
   "execution_count": 71,
   "id": "7cff38bb",
   "metadata": {},
   "outputs": [],
   "source": [
    "# 4. Apply ONE-HOT ENCODING (After SMOTENC)\n",
    "# =====================================================================\n",
    "# Initialize and fit one-hot encoder on RESAMPLED training data\n",
    "onehot_encoder = OneHotEncoder(sparse_output=False, handle_unknown='ignore')\n",
    "X_train_ohe = onehot_encoder.fit_transform(X_train_res[cat_cols])\n",
    "\n",
    "# Apply to test data using same encoder\n",
    "X_test_ohe = onehot_encoder.transform(X_test_ord[cat_cols])"
   ]
  },
  {
   "cell_type": "code",
   "execution_count": null,
   "id": "1640cf8c",
   "metadata": {},
   "outputs": [],
   "source": [
    "# 5. Combine Features for Final Dataset\n",
    "# =====================================================================\n",
    "# Extract numerical features (unchanged)\n",
    "X_train_num = X_train_res[num_cols].reset_index(drop=True)\n",
    "X_test_num = X_test_ord[num_cols].reset_index(drop=True)\n",
    "\n",
    "# Create feature names for one-hot encoded columns\n",
    "ohe_columns = onehot_encoder.get_feature_names_out(cat_cols)\n",
    "\n",
    "# Combine numerical and one-hot categorical features\n",
    "X_train_final = pd.concat([X_train_num, pd.DataFrame(X_train_ohe, columns=ohe_columns)], axis=1)\n",
    "\n",
    "X_test_final = pd.concat([X_test_num, pd.DataFrame(X_test_ohe, columns=ohe_columns)], axis=1)"
   ]
  },
  {
   "cell_type": "code",
   "execution_count": 73,
   "id": "c474fcb3",
   "metadata": {},
   "outputs": [],
   "source": [
    "# Encoding target variable \n",
    "label_encoder = LabelEncoder()\n",
    "y_train_final = label_encoder.fit_transform(y_train_res)\n",
    "y_test_final = label_encoder.transform(y_test)"
   ]
  },
  {
   "cell_type": "code",
   "execution_count": 75,
   "id": "275b0777",
   "metadata": {},
   "outputs": [
    {
     "name": "stdout",
     "output_type": "stream",
     "text": [
      "\n",
      "Final training set shape: (36000, 56)\n",
      "Final test set shape: (6700, 56)\n",
      "Sample of final training data:\n"
     ]
    },
    {
     "data": {
      "text/html": [
       "<div>\n",
       "<style scoped>\n",
       "    .dataframe tbody tr th:only-of-type {\n",
       "        vertical-align: middle;\n",
       "    }\n",
       "\n",
       "    .dataframe tbody tr th {\n",
       "        vertical-align: top;\n",
       "    }\n",
       "\n",
       "    .dataframe thead th {\n",
       "        text-align: right;\n",
       "    }\n",
       "</style>\n",
       "<table border=\"1\" class=\"dataframe\">\n",
       "  <thead>\n",
       "    <tr style=\"text-align: right;\">\n",
       "      <th></th>\n",
       "      <th>amount_tsh</th>\n",
       "      <th>longitude</th>\n",
       "      <th>latitude</th>\n",
       "      <th>num_private</th>\n",
       "      <th>population</th>\n",
       "      <th>construction_year</th>\n",
       "      <th>Year_Recorded</th>\n",
       "      <th>permit_0.0</th>\n",
       "      <th>permit_1.0</th>\n",
       "      <th>extraction_type_class_0.0</th>\n",
       "      <th>...</th>\n",
       "      <th>source_class_0.0</th>\n",
       "      <th>source_class_1.0</th>\n",
       "      <th>source_class_2.0</th>\n",
       "      <th>waterpoint_type_0.0</th>\n",
       "      <th>waterpoint_type_1.0</th>\n",
       "      <th>waterpoint_type_2.0</th>\n",
       "      <th>waterpoint_type_3.0</th>\n",
       "      <th>waterpoint_type_4.0</th>\n",
       "      <th>waterpoint_type_5.0</th>\n",
       "      <th>waterpoint_type_6.0</th>\n",
       "    </tr>\n",
       "  </thead>\n",
       "  <tbody>\n",
       "    <tr>\n",
       "      <th>0</th>\n",
       "      <td>0.0</td>\n",
       "      <td>32.277249</td>\n",
       "      <td>-4.390906</td>\n",
       "      <td>0</td>\n",
       "      <td>0</td>\n",
       "      <td>0</td>\n",
       "      <td>2012</td>\n",
       "      <td>0.0</td>\n",
       "      <td>1.0</td>\n",
       "      <td>0.0</td>\n",
       "      <td>...</td>\n",
       "      <td>1.0</td>\n",
       "      <td>0.0</td>\n",
       "      <td>0.0</td>\n",
       "      <td>0.0</td>\n",
       "      <td>0.0</td>\n",
       "      <td>0.0</td>\n",
       "      <td>0.0</td>\n",
       "      <td>0.0</td>\n",
       "      <td>0.0</td>\n",
       "      <td>1.0</td>\n",
       "    </tr>\n",
       "    <tr>\n",
       "      <th>1</th>\n",
       "      <td>0.0</td>\n",
       "      <td>33.811988</td>\n",
       "      <td>-3.831992</td>\n",
       "      <td>0</td>\n",
       "      <td>0</td>\n",
       "      <td>0</td>\n",
       "      <td>2012</td>\n",
       "      <td>1.0</td>\n",
       "      <td>0.0</td>\n",
       "      <td>1.0</td>\n",
       "      <td>...</td>\n",
       "      <td>0.0</td>\n",
       "      <td>1.0</td>\n",
       "      <td>0.0</td>\n",
       "      <td>0.0</td>\n",
       "      <td>0.0</td>\n",
       "      <td>0.0</td>\n",
       "      <td>0.0</td>\n",
       "      <td>0.0</td>\n",
       "      <td>0.0</td>\n",
       "      <td>1.0</td>\n",
       "    </tr>\n",
       "    <tr>\n",
       "      <th>2</th>\n",
       "      <td>0.0</td>\n",
       "      <td>33.976453</td>\n",
       "      <td>-1.477176</td>\n",
       "      <td>0</td>\n",
       "      <td>2500</td>\n",
       "      <td>1983</td>\n",
       "      <td>2012</td>\n",
       "      <td>1.0</td>\n",
       "      <td>0.0</td>\n",
       "      <td>0.0</td>\n",
       "      <td>...</td>\n",
       "      <td>0.0</td>\n",
       "      <td>1.0</td>\n",
       "      <td>0.0</td>\n",
       "      <td>0.0</td>\n",
       "      <td>1.0</td>\n",
       "      <td>0.0</td>\n",
       "      <td>0.0</td>\n",
       "      <td>0.0</td>\n",
       "      <td>0.0</td>\n",
       "      <td>0.0</td>\n",
       "    </tr>\n",
       "    <tr>\n",
       "      <th>3</th>\n",
       "      <td>0.0</td>\n",
       "      <td>30.489613</td>\n",
       "      <td>-3.650591</td>\n",
       "      <td>0</td>\n",
       "      <td>130</td>\n",
       "      <td>2009</td>\n",
       "      <td>2013</td>\n",
       "      <td>1.0</td>\n",
       "      <td>0.0</td>\n",
       "      <td>1.0</td>\n",
       "      <td>...</td>\n",
       "      <td>1.0</td>\n",
       "      <td>0.0</td>\n",
       "      <td>0.0</td>\n",
       "      <td>0.0</td>\n",
       "      <td>0.0</td>\n",
       "      <td>0.0</td>\n",
       "      <td>0.0</td>\n",
       "      <td>0.0</td>\n",
       "      <td>1.0</td>\n",
       "      <td>0.0</td>\n",
       "    </tr>\n",
       "    <tr>\n",
       "      <th>4</th>\n",
       "      <td>0.0</td>\n",
       "      <td>37.754119</td>\n",
       "      <td>-6.052232</td>\n",
       "      <td>0</td>\n",
       "      <td>1</td>\n",
       "      <td>2011</td>\n",
       "      <td>2011</td>\n",
       "      <td>0.0</td>\n",
       "      <td>1.0</td>\n",
       "      <td>0.0</td>\n",
       "      <td>...</td>\n",
       "      <td>1.0</td>\n",
       "      <td>0.0</td>\n",
       "      <td>0.0</td>\n",
       "      <td>0.0</td>\n",
       "      <td>0.0</td>\n",
       "      <td>0.0</td>\n",
       "      <td>0.0</td>\n",
       "      <td>1.0</td>\n",
       "      <td>0.0</td>\n",
       "      <td>0.0</td>\n",
       "    </tr>\n",
       "  </tbody>\n",
       "</table>\n",
       "<p>5 rows × 56 columns</p>\n",
       "</div>"
      ],
      "text/plain": [
       "   amount_tsh  longitude  latitude  num_private  population  \\\n",
       "0         0.0  32.277249 -4.390906            0           0   \n",
       "1         0.0  33.811988 -3.831992            0           0   \n",
       "2         0.0  33.976453 -1.477176            0        2500   \n",
       "3         0.0  30.489613 -3.650591            0         130   \n",
       "4         0.0  37.754119 -6.052232            0           1   \n",
       "\n",
       "   construction_year  Year_Recorded  permit_0.0  permit_1.0  \\\n",
       "0                  0           2012         0.0         1.0   \n",
       "1                  0           2012         1.0         0.0   \n",
       "2               1983           2012         1.0         0.0   \n",
       "3               2009           2013         1.0         0.0   \n",
       "4               2011           2011         0.0         1.0   \n",
       "\n",
       "   extraction_type_class_0.0  ...  source_class_0.0  source_class_1.0  \\\n",
       "0                        0.0  ...               1.0               0.0   \n",
       "1                        1.0  ...               0.0               1.0   \n",
       "2                        0.0  ...               0.0               1.0   \n",
       "3                        1.0  ...               1.0               0.0   \n",
       "4                        0.0  ...               1.0               0.0   \n",
       "\n",
       "   source_class_2.0  waterpoint_type_0.0  waterpoint_type_1.0  \\\n",
       "0               0.0                  0.0                  0.0   \n",
       "1               0.0                  0.0                  0.0   \n",
       "2               0.0                  0.0                  1.0   \n",
       "3               0.0                  0.0                  0.0   \n",
       "4               0.0                  0.0                  0.0   \n",
       "\n",
       "   waterpoint_type_2.0  waterpoint_type_3.0  waterpoint_type_4.0  \\\n",
       "0                  0.0                  0.0                  0.0   \n",
       "1                  0.0                  0.0                  0.0   \n",
       "2                  0.0                  0.0                  0.0   \n",
       "3                  0.0                  0.0                  0.0   \n",
       "4                  0.0                  0.0                  1.0   \n",
       "\n",
       "   waterpoint_type_5.0  waterpoint_type_6.0  \n",
       "0                  0.0                  1.0  \n",
       "1                  0.0                  1.0  \n",
       "2                  0.0                  0.0  \n",
       "3                  1.0                  0.0  \n",
       "4                  0.0                  0.0  \n",
       "\n",
       "[5 rows x 56 columns]"
      ]
     },
     "execution_count": 75,
     "metadata": {},
     "output_type": "execute_result"
    }
   ],
   "source": [
    "print(\"\\nFinal training set shape:\", X_train_final.shape)\n",
    "print(\"Final test set shape:\", X_test_final.shape)\n",
    "print(\"Sample of final training data:\")\n",
    "X_train_final.head()"
   ]
  },
  {
   "cell_type": "code",
   "execution_count": 76,
   "id": "cbd909cb",
   "metadata": {},
   "outputs": [
    {
     "name": "stdout",
     "output_type": "stream",
     "text": [
      "              precision    recall  f1-score   support\n",
      "\n",
      "           0       0.76      0.70      0.73      3000\n",
      "           1       0.39      0.50      0.44       700\n",
      "           2       0.78      0.78      0.78      3000\n",
      "\n",
      "    accuracy                           0.72      6700\n",
      "   macro avg       0.64      0.66      0.65      6700\n",
      "weighted avg       0.73      0.72      0.72      6700\n",
      "\n"
     ]
    }
   ],
   "source": [
    "model = DecisionTreeClassifier()\n",
    "model.fit(X_train_final,y_train_final)\n",
    "y_pred = model.predict(X_test_final)\n",
    "print(classification_report(y_test_final,y_pred))"
   ]
  },
  {
   "cell_type": "code",
   "execution_count": null,
   "id": "d2cdaf18",
   "metadata": {},
   "outputs": [],
   "source": []
  }
 ],
 "metadata": {
  "kernelspec": {
   "display_name": "learn-env",
   "language": "python",
   "name": "python3"
  },
  "language_info": {
   "codemirror_mode": {
    "name": "ipython",
    "version": 3
   },
   "file_extension": ".py",
   "mimetype": "text/x-python",
   "name": "python",
   "nbconvert_exporter": "python",
   "pygments_lexer": "ipython3",
   "version": "3.8.5"
  }
 },
 "nbformat": 4,
 "nbformat_minor": 5
}
